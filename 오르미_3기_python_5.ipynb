{
  "nbformat": 4,
  "nbformat_minor": 0,
  "metadata": {
    "colab": {
      "provenance": [],
      "authorship_tag": "ABX9TyNReVPr0J5QIGnPjLD2Uzs7",
      "include_colab_link": true
    },
    "kernelspec": {
      "name": "python3",
      "display_name": "Python 3"
    },
    "language_info": {
      "name": "python"
    }
  },
  "cells": [
    {
      "cell_type": "markdown",
      "metadata": {
        "id": "view-in-github",
        "colab_type": "text"
      },
      "source": [
        "<a href=\"https://colab.research.google.com/github/ggengmo/ChatGPT-repo/blob/main/%EC%98%A4%EB%A5%B4%EB%AF%B8_3%EA%B8%B0_python_5.ipynb\" target=\"_parent\"><img src=\"https://colab.research.google.com/assets/colab-badge.svg\" alt=\"Open In Colab\"/></a>"
      ]
    },
    {
      "cell_type": "markdown",
      "source": [
        "# 클래스 변수와 인스턴스 변수"
      ],
      "metadata": {
        "id": "xNgVbKnoghQa"
      }
    },
    {
      "cell_type": "code",
      "execution_count": null,
      "metadata": {
        "colab": {
          "base_uri": "https://localhost:8080/"
        },
        "id": "0rAQQ1dCgWYX",
        "outputId": "441b89e3-e808-4b61-c448-403587292f1a"
      },
      "outputs": [
        {
          "output_type": "stream",
          "name": "stdout",
          "text": [
            "300\n",
            "300\n",
            "500\n"
          ]
        }
      ],
      "source": [
        "class Car:\n",
        "    # 클래스 변수의 위치\n",
        "    max_speed = 300\n",
        "    max_people = 5\n",
        "    car_gear = ['P', 'D', 'R', 'N']\n",
        "\n",
        "modelx = Car()\n",
        "modely = Car()\n",
        "\n",
        "modely.max_speed = 500\n",
        "\n",
        "print(Car.max_speed) # 출력 : 300\n",
        "print(modelx.max_speed) # 출력 : 300\n",
        "print(modely.max_speed) # 출력 : 500 (인스턴스 변수를 출력한 값)"
      ]
    },
    {
      "cell_type": "code",
      "source": [
        "class Car:\n",
        "    # 클래스 변수의 위치\n",
        "    max_speed = 1000\n",
        "    max_people = 5\n",
        "    car_gear = ['P', 'D', 'R', 'N']\n",
        "\n",
        "modelx = Car()\n",
        "modely = Car()\n",
        "\n",
        "modely.max_speed = 1000\n",
        "\n",
        "print(id(Car.max_speed)) # 출력 : 135715349059920\n",
        "print(id(modelx.max_speed)) # 출력 : 135715349059920\n",
        "print(id(modely.max_speed)) # 출력 : 135715349054832 (인스턴스 변수를 출력한 값)"
      ],
      "metadata": {
        "colab": {
          "base_uri": "https://localhost:8080/"
        },
        "id": "5FvvWTKNgoA-",
        "outputId": "abfa8263-3d39-44a5-95c6-187fba529225"
      },
      "execution_count": null,
      "outputs": [
        {
          "output_type": "stream",
          "name": "stdout",
          "text": [
            "135715349060176\n",
            "135715349060176\n",
            "135715349061040\n"
          ]
        }
      ]
    },
    {
      "cell_type": "code",
      "source": [
        "class Car:\n",
        "    kinds = []\n",
        "    speed = 300\n",
        "\n",
        "    def add_kinds(self, name):\n",
        "        self.kinds.append(name)\n",
        "\n",
        "    def change_speed(self, speed):\n",
        "        self.speed = speed\n",
        "\n",
        "modelx = Car()\n",
        "modely = Car()\n",
        "\n",
        "modelx.add_kinds('x')\n",
        "modely.add_kinds('y')\n",
        "\n",
        "Car.speed = 100\n",
        "\n",
        "# modelx.change_speed(500)\n",
        "# modely.change_speed(250)\n",
        "\n",
        "print(f'modelx.kinds: {modelx.kinds}')\n",
        "print(f'modely.kinds: {modely.kinds}')\n",
        "print(f'modelx.speed: {modelx.speed}')\n",
        "print(f'modely.speed: {modely.speed}')"
      ],
      "metadata": {
        "colab": {
          "base_uri": "https://localhost:8080/"
        },
        "id": "9qjRiGnVhIwN",
        "outputId": "a8865d1e-0e8a-4a70-bde1-5879937e948e"
      },
      "execution_count": null,
      "outputs": [
        {
          "output_type": "stream",
          "name": "stdout",
          "text": [
            "modelx.kinds: ['x', 'y']\n",
            "modely.kinds: ['x', 'y']\n",
            "modelx.speed: 500\n",
            "modely.speed: 250\n"
          ]
        }
      ]
    },
    {
      "cell_type": "code",
      "source": [
        "# 일부러 혼란을 드리려고 어렵게 낸 문제입니다.\n",
        "# 이런 문제는 실무에서 거의 발생하지 않습니다.\n",
        "class Car:\n",
        "    kinds = []\n",
        "    speed = 300\n",
        "\n",
        "    def add_kinds(self, name):\n",
        "        self.kinds.append(name)\n",
        "\n",
        "    def change_speed(self, speed):\n",
        "        self.speed = speed\n",
        "\n",
        "modelx = Car()\n",
        "modely = Car()\n",
        "\n",
        "# Car.speed = 100\n",
        "\n",
        "modelx.change_speed(500)\n",
        "modely.change_speed(250)\n",
        "\n",
        "print(f'modelx.speed: {modelx.speed}')\n",
        "print(f'modely.speed: {modely.speed}')"
      ],
      "metadata": {
        "colab": {
          "base_uri": "https://localhost:8080/"
        },
        "id": "qB55Cp0ehejL",
        "outputId": "6d9639a2-bcb7-4337-f4bd-78dbe8cb5afa"
      },
      "execution_count": null,
      "outputs": [
        {
          "output_type": "stream",
          "name": "stdout",
          "text": [
            "modelx.speed: 500\n",
            "modely.speed: 250\n"
          ]
        }
      ]
    },
    {
      "cell_type": "code",
      "source": [
        "x = 100\n",
        "def test():\n",
        "    print(x) # 내 메모리 영역에 x가 없네? 그러면 찾아 올라갑니다.\n",
        "\n",
        "test()"
      ],
      "metadata": {
        "colab": {
          "base_uri": "https://localhost:8080/"
        },
        "id": "A5OIAn0Xkm4Y",
        "outputId": "acf05b8f-5148-4ad3-8756-c69eb9f8e5a6"
      },
      "execution_count": null,
      "outputs": [
        {
          "output_type": "stream",
          "name": "stdout",
          "text": [
            "100\n"
          ]
        }
      ]
    },
    {
      "cell_type": "code",
      "source": [
        "x = 100\n",
        "def test():\n",
        "    x = 200 #값을 읽어올 수 있지만 변경은 안됩니다!\n",
        "    # x는 전역변수는 건드리지 않고 지역변수 200을 선언했을 뿐입니다.\n",
        "\n",
        "test()\n",
        "x"
      ],
      "metadata": {
        "colab": {
          "base_uri": "https://localhost:8080/"
        },
        "id": "gnmMN3WYk1fD",
        "outputId": "94d66873-6e1b-44bc-b0fe-95317334d4eb"
      },
      "execution_count": null,
      "outputs": [
        {
          "output_type": "execute_result",
          "data": {
            "text/plain": [
              "100"
            ]
          },
          "metadata": {},
          "execution_count": 23
        }
      ]
    },
    {
      "cell_type": "code",
      "source": [
        "x = 100\n",
        "def test():\n",
        "    global x\n",
        "    x = 200 # 전역변수 x를 수정할 수 있게 됩니다!\n",
        "\n",
        "test()\n",
        "x"
      ],
      "metadata": {
        "colab": {
          "base_uri": "https://localhost:8080/"
        },
        "id": "9YQpwKqalOO_",
        "outputId": "f5f543bb-abc0-40fe-ce26-8e108a10f405"
      },
      "execution_count": null,
      "outputs": [
        {
          "output_type": "execute_result",
          "data": {
            "text/plain": [
              "200"
            ]
          },
          "metadata": {},
          "execution_count": 24
        }
      ]
    },
    {
      "cell_type": "code",
      "source": [
        "x = 100\n",
        "def test():\n",
        "    x += 100 # x = x + 100\n",
        "\n",
        "test()"
      ],
      "metadata": {
        "id": "3y2ly6JdlXpj"
      },
      "execution_count": null,
      "outputs": []
    },
    {
      "cell_type": "code",
      "source": [
        "x = 100\n",
        "def test():\n",
        "    global x\n",
        "    x += 100 # x = x + 100\n",
        "\n",
        "test()\n",
        "x"
      ],
      "metadata": {
        "colab": {
          "base_uri": "https://localhost:8080/"
        },
        "id": "4tR4G5_MmT2l",
        "outputId": "7374e1f8-974c-4454-ddb3-50ce74ca0faa"
      },
      "execution_count": null,
      "outputs": [
        {
          "output_type": "execute_result",
          "data": {
            "text/plain": [
              "200"
            ]
          },
          "metadata": {},
          "execution_count": 35
        }
      ]
    },
    {
      "cell_type": "code",
      "source": [
        "x = []\n",
        "def test():\n",
        "    x.append(100)\n",
        "\n",
        "test()\n",
        "x"
      ],
      "metadata": {
        "colab": {
          "base_uri": "https://localhost:8080/"
        },
        "id": "BvrzPfUTmZs0",
        "outputId": "8ceacc9d-e617-480a-b80f-a5008145fad3"
      },
      "execution_count": null,
      "outputs": [
        {
          "output_type": "execute_result",
          "data": {
            "text/plain": [
              "[100]"
            ]
          },
          "metadata": {},
          "execution_count": 36
        }
      ]
    },
    {
      "cell_type": "code",
      "source": [
        "# 매우 중요합니다.\n",
        "# 화살표 그릴 수 있어야 합니다.\n",
        "i = 100\n",
        "def test(ii):\n",
        "    ii = 300\n",
        "\n",
        "test(i)\n",
        "i"
      ],
      "metadata": {
        "colab": {
          "base_uri": "https://localhost:8080/"
        },
        "id": "wr5n27vBm8UW",
        "outputId": "e9cacabf-b385-4f46-e275-9a8803a28130"
      },
      "execution_count": null,
      "outputs": [
        {
          "output_type": "execute_result",
          "data": {
            "text/plain": [
              "100"
            ]
          },
          "metadata": {},
          "execution_count": 41
        }
      ]
    },
    {
      "cell_type": "code",
      "source": [
        "# 매우 중요합니다.\n",
        "l = [10, 20, 30]\n",
        "def test(ll):\n",
        "    ll.append(40)\n",
        "\n",
        "test(l)\n",
        "l"
      ],
      "metadata": {
        "id": "Ju0RsreKqoWt"
      },
      "execution_count": null,
      "outputs": []
    },
    {
      "cell_type": "code",
      "source": [
        "# 매우 중요합니다.\n",
        "l = [10, 20, 30]\n",
        "def test(ll):\n",
        "    ll = 100\n",
        "\n",
        "test(l)\n",
        "l"
      ],
      "metadata": {
        "colab": {
          "base_uri": "https://localhost:8080/"
        },
        "id": "UBUrc9vCrgHs",
        "outputId": "e196e030-4f5e-4ac9-8262-11ebaf4a7937"
      },
      "execution_count": null,
      "outputs": [
        {
          "output_type": "execute_result",
          "data": {
            "text/plain": [
              "[10, 20, 30]"
            ]
          },
          "metadata": {},
          "execution_count": 42
        }
      ]
    },
    {
      "cell_type": "code",
      "source": [
        "kinds = [] # 전역변수 speed 300\n",
        "\n",
        "def add_kinds(value):\n",
        "    kinds.append(value) # 지역에 해당 변수가 없으므로 전역변수 kinds에 append\n",
        "\n",
        "add_kinds(100)\n",
        "kinds"
      ],
      "metadata": {
        "colab": {
          "base_uri": "https://localhost:8080/"
        },
        "id": "Cp3tjv09kIH1",
        "outputId": "181bb5b9-c7fe-4eb0-992e-64d8b5d82910"
      },
      "execution_count": null,
      "outputs": [
        {
          "output_type": "execute_result",
          "data": {
            "text/plain": [
              "[100]"
            ]
          },
          "metadata": {},
          "execution_count": 17
        }
      ]
    },
    {
      "cell_type": "code",
      "source": [
        "kinds = [] # 전역변수 speed 300\n",
        "\n",
        "def add_kinds(value):\n",
        "    kinds = []\n",
        "    kinds.append(value) # 지역에 해당 변수가 없으므로 전역변수 kinds에 append\n",
        "\n",
        "add_kinds(100)\n",
        "kinds"
      ],
      "metadata": {
        "colab": {
          "base_uri": "https://localhost:8080/"
        },
        "id": "KVIVmIJdkYhb",
        "outputId": "b1e7204d-c8e4-46f4-9700-1d907a819ce6"
      },
      "execution_count": null,
      "outputs": [
        {
          "output_type": "execute_result",
          "data": {
            "text/plain": [
              "[]"
            ]
          },
          "metadata": {},
          "execution_count": 16
        }
      ]
    },
    {
      "cell_type": "code",
      "source": [
        "def hello():\n",
        "    print('hello world')\n",
        "\n",
        "print(type(hello)) # 출력: <class 'function'>"
      ],
      "metadata": {
        "colab": {
          "base_uri": "https://localhost:8080/"
        },
        "id": "GfQs84r5kmBV",
        "outputId": "ca0d687f-8c3d-4c98-9adc-93ed73ae0907"
      },
      "execution_count": null,
      "outputs": [
        {
          "output_type": "stream",
          "name": "stdout",
          "text": [
            "<class 'function'>\n"
          ]
        }
      ]
    },
    {
      "cell_type": "code",
      "source": [
        "class Point:\n",
        "\n",
        "    def __init__(self, x, y):\n",
        "        self.x = x\n",
        "        self.y = y\n",
        "\n",
        "    def __add__(self, other):\n",
        "        if isinstance(other, Point):\n",
        "            return Point((self.x + other.x), (self.y + other.y))\n",
        "        elif isinstance(other, int) or isinstance(other, float):\n",
        "            return Point((self.x + other), (self.y + other))\n",
        "\n",
        "    def distance(self, other):\n",
        "        dx = self.x - other.x\n",
        "        dy = self.y - other.y\n",
        "        return (dx**2 + dy**2)**0.5\n",
        "\n",
        "dot1 = Point(10, 20)\n",
        "dot2 = Point(20, 30)\n",
        "\n",
        "dot3 = dot1 + 10\n",
        "print(dot1.x, dot1.y) # 출력: 10 20\n",
        "print(dot3.x, dot3.y) # 출력: 20 30\n",
        "\n",
        "dot4 = dot1 + dot2\n",
        "print(dot4.x, dot4.y) # 출력: 30 50\n",
        "print(dot4.distance(dot1)) # 출력: 36.05551275463989"
      ],
      "metadata": {
        "colab": {
          "base_uri": "https://localhost:8080/"
        },
        "id": "orNxSzCtswhS",
        "outputId": "e4d95709-7eee-41f5-d183-233b21e97df6"
      },
      "execution_count": null,
      "outputs": [
        {
          "output_type": "stream",
          "name": "stdout",
          "text": [
            "10 20\n",
            "20 30\n",
            "30 50\n",
            "36.05551275463989\n"
          ]
        }
      ]
    },
    {
      "cell_type": "markdown",
      "source": [
        "# 매직 메서드"
      ],
      "metadata": {
        "id": "UbJYbc9-xLLS"
      }
    },
    {
      "cell_type": "code",
      "source": [
        "class Counter:\n",
        "\n",
        "    def __init__(self):\n",
        "        self.num = 0\n",
        "\n",
        "    def __len__(self):\n",
        "        return 100\n",
        "\n",
        "    def __call__(self):\n",
        "        return 'hello'\n",
        "\n",
        "    def __getitem__(self, key):\n",
        "        return key * 10\n",
        "\n",
        "    def __str__(self):\n",
        "        return 'hello'\n",
        "\n",
        "    def __repr__(self):\n",
        "        return 'world'\n",
        "\n",
        "c = Counter()\n",
        "len(c)\n",
        "c()\n",
        "c[10]\n",
        "print(c) #print(str(c)) # __str__\n",
        "c # __repr__"
      ],
      "metadata": {
        "colab": {
          "base_uri": "https://localhost:8080/"
        },
        "id": "FhXndQ4lvrVH",
        "outputId": "ca1cd436-4a06-4a82-bbcb-f753329e0201"
      },
      "execution_count": null,
      "outputs": [
        {
          "output_type": "stream",
          "name": "stdout",
          "text": [
            "hello\n"
          ]
        },
        {
          "output_type": "execute_result",
          "data": {
            "text/plain": [
              "world"
            ]
          },
          "metadata": {},
          "execution_count": 54
        }
      ]
    },
    {
      "cell_type": "markdown",
      "source": [
        "# 상속"
      ],
      "metadata": {
        "id": "m4iimUdEynXY"
      }
    },
    {
      "cell_type": "code",
      "source": [
        "class A:\n",
        "    def hello(self):\n",
        "        return 'hello'\n",
        "class B(A):\n",
        "    def world(self):\n",
        "        return 'world'\n",
        "\n",
        "b = B()\n",
        "b.hello()\n",
        "b.world()\n",
        "# b.hello() +' '+ b.world()"
      ],
      "metadata": {
        "colab": {
          "base_uri": "https://localhost:8080/",
          "height": 35
        },
        "id": "ExPK4uzEyobH",
        "outputId": "bc387b1a-6957-4fa7-9161-534345703ed4"
      },
      "execution_count": null,
      "outputs": [
        {
          "output_type": "execute_result",
          "data": {
            "text/plain": [
              "'world'"
            ],
            "application/vnd.google.colaboratory.intrinsic+json": {
              "type": "string"
            }
          },
          "metadata": {},
          "execution_count": 67
        }
      ]
    },
    {
      "cell_type": "code",
      "source": [
        "class A:\n",
        "\n",
        "    def hello(self):\n",
        "        return 'hello'\n",
        "\n",
        "class B(A):\n",
        "\n",
        "    def __init__(self, a):\n",
        "        print(a, b)\n",
        "\n",
        "    def world(self):\n",
        "        return 'world'\n",
        "\n",
        "b = B(10) # A에서 처리하는 것이 아니고 a에서 처리합니다.\n",
        "b.hello()\n",
        "b.world()\n",
        "# b.hello() +' '+ b.world()"
      ],
      "metadata": {
        "colab": {
          "base_uri": "https://localhost:8080/",
          "height": 54
        },
        "id": "1915tWn1zzfZ",
        "outputId": "1bd7787e-7c4f-4d7d-c6d8-c0f945cf5dfd"
      },
      "execution_count": null,
      "outputs": [
        {
          "output_type": "stream",
          "name": "stdout",
          "text": [
            "10 <__main__.B object at 0x7b6e7ee48130>\n"
          ]
        },
        {
          "output_type": "execute_result",
          "data": {
            "text/plain": [
              "'world'"
            ],
            "application/vnd.google.colaboratory.intrinsic+json": {
              "type": "string"
            }
          },
          "metadata": {},
          "execution_count": 69
        }
      ]
    },
    {
      "cell_type": "code",
      "source": [
        "class A(object):\n",
        "\n",
        "    def hello(self):\n",
        "        return 'hello'\n",
        "\n",
        "class B(A):\n",
        "\n",
        "    def __init__(self, a):\n",
        "        print(a, b)\n",
        "\n",
        "    def world(self):\n",
        "        return 'world'\n",
        "\n",
        "b = B(10)\n",
        "b.hello()\n",
        "b.world()\n",
        "dir(b)"
      ],
      "metadata": {
        "colab": {
          "base_uri": "https://localhost:8080/"
        },
        "id": "EWd1jQgk0fkl",
        "outputId": "a814ae41-f998-4fae-9ca1-d0b09eeafab2"
      },
      "execution_count": null,
      "outputs": [
        {
          "output_type": "stream",
          "name": "stdout",
          "text": [
            "10 <__main__.B object at 0x7b6e7ee480a0>\n"
          ]
        },
        {
          "output_type": "execute_result",
          "data": {
            "text/plain": [
              "['__class__',\n",
              " '__delattr__',\n",
              " '__dict__',\n",
              " '__dir__',\n",
              " '__doc__',\n",
              " '__eq__',\n",
              " '__format__',\n",
              " '__ge__',\n",
              " '__getattribute__',\n",
              " '__gt__',\n",
              " '__hash__',\n",
              " '__init__',\n",
              " '__init_subclass__',\n",
              " '__le__',\n",
              " '__lt__',\n",
              " '__module__',\n",
              " '__ne__',\n",
              " '__new__',\n",
              " '__reduce__',\n",
              " '__reduce_ex__',\n",
              " '__repr__',\n",
              " '__setattr__',\n",
              " '__sizeof__',\n",
              " '__str__',\n",
              " '__subclasshook__',\n",
              " '__weakref__',\n",
              " 'hello',\n",
              " 'world']"
            ]
          },
          "metadata": {},
          "execution_count": 72
        }
      ]
    },
    {
      "cell_type": "code",
      "source": [
        "class A(object):\n",
        "\n",
        "    def hello(self):\n",
        "        return 'hello'\n",
        "\n",
        "class B(A):\n",
        "\n",
        "    def __init__(self, a):\n",
        "        print(a, b)\n",
        "\n",
        "    def hello(self):\n",
        "        return 'hello world'\n",
        "\n",
        "b = B(10)\n",
        "b.hello() # B에 hello가 A에 hello를 덮습니다."
      ],
      "metadata": {
        "colab": {
          "base_uri": "https://localhost:8080/",
          "height": 54
        },
        "id": "cH4TxBfL06nv",
        "outputId": "c4d23775-4172-4c67-e3b4-0e0a828ce756"
      },
      "execution_count": null,
      "outputs": [
        {
          "output_type": "stream",
          "name": "stdout",
          "text": [
            "10 <__main__.B object at 0x7b6e7ef55600>\n"
          ]
        },
        {
          "output_type": "execute_result",
          "data": {
            "text/plain": [
              "'hello world'"
            ],
            "application/vnd.google.colaboratory.intrinsic+json": {
              "type": "string"
            }
          },
          "metadata": {},
          "execution_count": 74
        }
      ]
    },
    {
      "cell_type": "code",
      "source": [
        "class A(object):\n",
        "\n",
        "    def one(self):\n",
        "        return 'one'\n",
        "\n",
        "class B(A):\n",
        "\n",
        "    def two(self):\n",
        "        return 'two'\n",
        "\n",
        "class C(B):\n",
        "\n",
        "    def three(self):\n",
        "        return 'three'\n",
        "\n",
        "c = C()\n",
        "c.one()\n",
        "c.two()\n",
        "c.three()"
      ],
      "metadata": {
        "colab": {
          "base_uri": "https://localhost:8080/",
          "height": 35
        },
        "id": "QOS8vIcV1rpP",
        "outputId": "81d2a3cb-2e14-4956-f5a3-8eb5ebd3a032"
      },
      "execution_count": null,
      "outputs": [
        {
          "output_type": "execute_result",
          "data": {
            "text/plain": [
              "'three'"
            ],
            "application/vnd.google.colaboratory.intrinsic+json": {
              "type": "string"
            }
          },
          "metadata": {},
          "execution_count": 80
        }
      ]
    },
    {
      "cell_type": "code",
      "source": [
        "class A(object):\n",
        "    test = 0\n",
        "\n",
        "    def one(self):\n",
        "        return 'one'\n",
        "\n",
        "class B(A):\n",
        "\n",
        "    def two(self):\n",
        "        return 'two'\n",
        "\n",
        "class C(B):\n",
        "\n",
        "    def three(self):\n",
        "        return 'three'\n",
        "\n",
        "c = C()\n",
        "A.test = 300\n",
        "c.test # 상속을 받을 때 내 메모리 영역의 값(보유하고 있는 값)은 아닙니다! 참조 값입니다."
      ],
      "metadata": {
        "colab": {
          "base_uri": "https://localhost:8080/"
        },
        "id": "3XxK6elv1y6K",
        "outputId": "54f2c61e-dee5-4efc-83f1-5e1f4f61707e"
      },
      "execution_count": null,
      "outputs": [
        {
          "output_type": "execute_result",
          "data": {
            "text/plain": [
              "300"
            ]
          },
          "metadata": {},
          "execution_count": 81
        }
      ]
    },
    {
      "cell_type": "markdown",
      "source": [
        "# 다중 상속"
      ],
      "metadata": {
        "id": "Z9c_tRfO6JxU"
      }
    },
    {
      "cell_type": "code",
      "source": [
        "class A:\n",
        "\n",
        "    def hello(self):\n",
        "        print('hello A')\n",
        "\n",
        "class B:\n",
        "\n",
        "    def hello(self):\n",
        "        print('hello B')\n",
        "\n",
        "class C(A, B):\n",
        "    pass\n",
        "\n",
        "c = C()\n",
        "c.hello() # 주의! Python의 코드 특성상 hello B라고 오해할만합니다. 2.x와 3.x가 상속에 순서가 다릅니다."
      ],
      "metadata": {
        "colab": {
          "base_uri": "https://localhost:8080/"
        },
        "id": "XjMxbK7E5nWH",
        "outputId": "30df2a59-463d-4bb3-ea42-b92a86a0d82a"
      },
      "execution_count": null,
      "outputs": [
        {
          "output_type": "stream",
          "name": "stdout",
          "text": [
            "hello A\n"
          ]
        }
      ]
    },
    {
      "cell_type": "code",
      "source": [
        "# 주의! Python의 2.x와 3.x가 아래 다이아몬드 상속에 순서가 다릅니다.\n",
        "class A:\n",
        "\n",
        "    def hello(self):\n",
        "        print('hello A')\n",
        "\n",
        "class B(A):\n",
        "\n",
        "    def hello(self):\n",
        "        print('hello B')\n",
        "\n",
        "class C(A):\n",
        "\n",
        "    def hello(self):\n",
        "        print('hello C')\n",
        "\n",
        "class D(B, C):\n",
        "    pass\n",
        "\n",
        "d = D()\n",
        "d.hello()\n",
        "D.mro()"
      ],
      "metadata": {
        "colab": {
          "base_uri": "https://localhost:8080/"
        },
        "id": "rlXxVfqb7TA7",
        "outputId": "e5bfde35-e7ae-4a3b-c5d1-023bbf324d65"
      },
      "execution_count": null,
      "outputs": [
        {
          "output_type": "stream",
          "name": "stdout",
          "text": [
            "hello B\n"
          ]
        },
        {
          "output_type": "execute_result",
          "data": {
            "text/plain": [
              "[__main__.D, __main__.B, __main__.C, __main__.A, object]"
            ]
          },
          "metadata": {},
          "execution_count": 91
        }
      ]
    },
    {
      "cell_type": "code",
      "source": [
        "# 다중 상속을 했을 때 상속에서 error가 나는 경우 - 정상 실행\n",
        "class A:\n",
        "\n",
        "    def hello(self):\n",
        "        print('hello A')\n",
        "\n",
        "class B(A):\n",
        "\n",
        "    def hello(self):\n",
        "        print('hello B')\n",
        "\n",
        "class C(B):\n",
        "\n",
        "    def hello(self):\n",
        "        print('hello C')\n",
        "\n",
        "class D(C, B):\n",
        "    pass\n",
        "\n",
        "d = D()\n",
        "d.hello()"
      ],
      "metadata": {
        "colab": {
          "base_uri": "https://localhost:8080/"
        },
        "id": "VGmotJol7rtv",
        "outputId": "950c298e-bed7-4caa-bb0e-1f245395c9e8"
      },
      "execution_count": null,
      "outputs": [
        {
          "output_type": "stream",
          "name": "stdout",
          "text": [
            "hello C\n"
          ]
        }
      ]
    },
    {
      "cell_type": "code",
      "source": [
        "# 다중 상속을 했을 때 상속에서 error가 나는 경우 - error\n",
        "class A:\n",
        "\n",
        "    def hello(self):\n",
        "        print('hello A')\n",
        "\n",
        "class B(A):\n",
        "\n",
        "    def hello(self):\n",
        "        print('hello B')\n",
        "\n",
        "class C(B):\n",
        "\n",
        "    def hello(self):\n",
        "        print('hello C')\n",
        "\n",
        "class D(B, C):\n",
        "    pass\n",
        "\n",
        "d = D()\n",
        "d.hello()"
      ],
      "metadata": {
        "colab": {
          "base_uri": "https://localhost:8080/",
          "height": 273
        },
        "id": "Dxx21guq84ja",
        "outputId": "ac8484c9-f07a-445f-ecfe-24ae55578770"
      },
      "execution_count": null,
      "outputs": [
        {
          "output_type": "error",
          "ename": "TypeError",
          "evalue": "ignored",
          "traceback": [
            "\u001b[0;31m---------------------------------------------------------------------------\u001b[0m",
            "\u001b[0;31mTypeError\u001b[0m                                 Traceback (most recent call last)",
            "\u001b[0;32m<ipython-input-93-ca61afd8cd95>\u001b[0m in \u001b[0;36m<cell line: 17>\u001b[0;34m()\u001b[0m\n\u001b[1;32m     15\u001b[0m         \u001b[0mprint\u001b[0m\u001b[0;34m(\u001b[0m\u001b[0;34m'hello C'\u001b[0m\u001b[0;34m)\u001b[0m\u001b[0;34m\u001b[0m\u001b[0;34m\u001b[0m\u001b[0m\n\u001b[1;32m     16\u001b[0m \u001b[0;34m\u001b[0m\u001b[0m\n\u001b[0;32m---> 17\u001b[0;31m \u001b[0;32mclass\u001b[0m \u001b[0mD\u001b[0m\u001b[0;34m(\u001b[0m\u001b[0mB\u001b[0m\u001b[0;34m,\u001b[0m \u001b[0mC\u001b[0m\u001b[0;34m)\u001b[0m\u001b[0;34m:\u001b[0m\u001b[0;34m\u001b[0m\u001b[0;34m\u001b[0m\u001b[0m\n\u001b[0m\u001b[1;32m     18\u001b[0m     \u001b[0;32mpass\u001b[0m\u001b[0;34m\u001b[0m\u001b[0;34m\u001b[0m\u001b[0m\n\u001b[1;32m     19\u001b[0m \u001b[0;34m\u001b[0m\u001b[0m\n",
            "\u001b[0;31mTypeError\u001b[0m: Cannot create a consistent method resolution\norder (MRO) for bases B, C"
          ]
        }
      ]
    },
    {
      "cell_type": "markdown",
      "source": [
        "# 연습문제\n",
        "\n",
        "게임에서 케릭터를 구현할 예정입니다. 아래 클래스를 적절하게 조합하여 hero 인스턴스와 villain 인스턴스를 만들어주세요.\n",
        "\n",
        "1. class Body(능력치)\n",
        "2. class Weapon(무기)\n",
        "3. class WeaponEnhancement(무기강화)\n",
        "4. class Skill(기술)\n",
        "5. class Equipment(장비)\n",
        "6. class Role(히어로인지, 빌런인지, 몹인지)"
      ],
      "metadata": {
        "id": "WaKFRw299a75"
      }
    },
    {
      "cell_type": "code",
      "source": [
        "class Weapon:\n",
        "    def setDamage(self, damage):\n",
        "        self.damage = damage\n",
        "\n",
        "class WeaponEnhancement(Weapon):\n",
        "    def setEnhance(self, success):\n",
        "        if success == True:\n",
        "            self.damage *= 5\n",
        "        else:\n",
        "            self.damage = 0\n",
        "\n",
        "class Equipment(WeaponEnhancement):\n",
        "    pass\n",
        "\n",
        "class Role:\n",
        "    def setRole(self, role):\n",
        "        self.role = role\n",
        "\n",
        "class Skill:\n",
        "    def jarvis(self):\n",
        "        return '자비스! 도와줘!'\n",
        "    def beam(self):\n",
        "        return '나가라 빔!'\n",
        "\n",
        "class Body(Role, Skill, Equipment):\n",
        "\n",
        "    def __init__(self, role, hp, mp, power):\n",
        "        self.setRole(role)\n",
        "\n",
        "ironman = Body('hero', 100, 100, 100)\n",
        "thanos = Body('villian', 100, 100, 80)\n",
        "ironman.role\n",
        "ironman.jarvis()\n",
        "ironman.setDamage(1000)\n",
        "ironman.damage\n",
        "ironman.setEnhance(True)\n",
        "ironman.setEnhance(True)\n",
        "ironman.damage"
      ],
      "metadata": {
        "colab": {
          "base_uri": "https://localhost:8080/"
        },
        "id": "8ArxWWaSDHr6",
        "outputId": "bfdd9616-500d-4648-a7b0-ca73dea6aa20"
      },
      "execution_count": null,
      "outputs": [
        {
          "output_type": "execute_result",
          "data": {
            "text/plain": [
              "25000"
            ]
          },
          "metadata": {},
          "execution_count": 114
        }
      ]
    },
    {
      "cell_type": "code",
      "source": [
        "class Body():\n",
        "    hp = 0\n",
        "    mp = 0\n",
        "    level = 0\n",
        "    exp = 0\n",
        "\n",
        "    def __init__(self, hp, mp, level, exp):\n",
        "        self.hp = hp\n",
        "        self.mp = mp\n",
        "        self.level = level\n",
        "        self.exp = exp\n",
        "\n",
        "class Weapon():\n",
        "    weapon_id = ''\n",
        "    weapon_name = ''\n",
        "    damage = 0\n",
        "\n",
        "    def __init__(self, id, name, damage):\n",
        "        self.weapon_id = id\n",
        "        self.weapon_name = name\n",
        "        self.weapon_damage = damage\n",
        "\n",
        "\n",
        "class WeaponEnhancement(Weapon):\n",
        "\n",
        "    weapon_enhancement = 0\n",
        "\n",
        "    def __init__(self, enhancement):\n",
        "        self.weapon_enhancement = enhancement\n",
        "\n",
        "    def enhance(self, true):\n",
        "        self.weapon_enhancement += 1\n",
        "\n",
        "\n",
        "class Skill():\n",
        "\n",
        "    skill_id = ''\n",
        "    skill_name = ''\n",
        "    skill_damage = 0\n",
        "    skill_level = 0\n",
        "\n",
        "    def __init__(self, id, name, damage, skill_level):\n",
        "        self.skill_id = id\n",
        "        self.skill_name = name\n",
        "        self.skill_damage = damage\n",
        "        self.skill_level = skill_level\n",
        "\n",
        "\n",
        "class Equipment():\n",
        "\n",
        "    eqipment_id = ''\n",
        "    eqipment_name = ''\n",
        "\n",
        "    def __init__(self, id, name):\n",
        "        self.eqipment_id = id\n",
        "        self.eqipment_name = name\n",
        "\n",
        "class Role():\n",
        "\n",
        "    role = str()\n",
        "\n",
        "    def __init__(self, role, body, weapon, weapon_enhancement, skill, equipment):\n",
        "        self.role = role\n",
        "        self.body = body\n",
        "        self.weapon = weapon\n",
        "        self.weapon_enhancement = weapon_enhancement\n",
        "        self.skill = skill\n",
        "        self.equipment = equipment\n",
        "\n",
        "\n",
        "\n",
        "hero = Role('hero', Body(1500, 200, 30, 10000), Weapon(2, '칼', 150, ), WeaponEnhancement(10), Skill(10, '휘두르기', 200, 3), Equipment(25, '갑옷'))\n",
        "villain = Role('villain', Body(11500, 200, 30, 10000), Weapon(10, '도끼', 1050, ), WeaponEnhancement(20), Skill(105, 'EX', 2000000, 1), Equipment(255, '갑옷'))"
      ],
      "metadata": {
        "id": "BTmC2G4RKaeu"
      },
      "execution_count": null,
      "outputs": []
    },
    {
      "cell_type": "markdown",
      "source": [
        "# 클래스 메서드와 정적 메서드"
      ],
      "metadata": {
        "id": "v1xg_9Tqw1nz"
      }
    },
    {
      "cell_type": "code",
      "source": [
        "# 클래스 메서드\n",
        "class MyClass:\n",
        "    count = 0\n",
        "\n",
        "    @classmethod\n",
        "    def increment(cls):\n",
        "        cls.count += 1\n",
        "\n",
        "a = MyClass()\n",
        "b = MyClass()\n",
        "\n",
        "MyClass.increment()\n",
        "print(MyClass.count)  # 출력: 1\n",
        "\n",
        "print(a.count, b.count)\n",
        "MyClass.increment()\n",
        "print(a.count, b.count)"
      ],
      "metadata": {
        "colab": {
          "base_uri": "https://localhost:8080/"
        },
        "id": "OebLH8g_w31x",
        "outputId": "513df6e1-d61e-45fe-8133-7fa1f18c8465"
      },
      "execution_count": null,
      "outputs": [
        {
          "output_type": "stream",
          "name": "stdout",
          "text": [
            "1\n",
            "1 1\n",
            "2 2\n"
          ]
        }
      ]
    },
    {
      "cell_type": "code",
      "source": [
        "# 클래스 메서드\n",
        "class MyClass:\n",
        "    count = 0\n",
        "\n",
        "    def increment(self):\n",
        "        self.count += 1\n",
        "\n",
        "a = MyClass()\n",
        "b = MyClass()\n",
        "\n",
        "# MyClass.increment() # error\n",
        "a.increment()\n",
        "\n",
        "print(a.count, b.count)\n",
        "\n",
        "a.increment()\n",
        "\n",
        "print(a.count, b.count)"
      ],
      "metadata": {
        "colab": {
          "base_uri": "https://localhost:8080/"
        },
        "id": "K0yOLsDZxf0G",
        "outputId": "49d15d2c-5484-40bd-9d18-13f915de0a68"
      },
      "execution_count": null,
      "outputs": [
        {
          "output_type": "stream",
          "name": "stdout",
          "text": [
            "1 0\n",
            "2 0\n"
          ]
        }
      ]
    },
    {
      "cell_type": "code",
      "source": [
        "class MyClass:\n",
        "    @staticmethod\n",
        "    def my_method(x, y):\n",
        "        return x + y\n",
        "\n",
        "print(MyClass.my_method(5, 3))  # 출력: 8"
      ],
      "metadata": {
        "colab": {
          "base_uri": "https://localhost:8080/"
        },
        "id": "l1ZmyncozQ8y",
        "outputId": "c91ee5b3-2f38-4ce7-c04a-467e6dff5b9c"
      },
      "execution_count": null,
      "outputs": [
        {
          "output_type": "stream",
          "name": "stdout",
          "text": [
            "8\n"
          ]
        }
      ]
    },
    {
      "cell_type": "code",
      "source": [
        "class MyClass:\n",
        "\n",
        "    count = 10\n",
        "    @staticmethod\n",
        "    def my_method(x, y):\n",
        "        # print(count) # 읽는거 조차 접근이 안됩니다.\n",
        "        return x + y + count #error\n",
        "\n",
        "print(MyClass.my_method(5, 3))  # 출력: 8"
      ],
      "metadata": {
        "id": "rw76AMsx0H5R"
      },
      "execution_count": null,
      "outputs": []
    },
    {
      "cell_type": "code",
      "source": [
        "class 학사정보시스템:\n",
        "\n",
        "    학점총점 = 120\n",
        "\n",
        "    def __init__(self):\n",
        "\n",
        "        self.학기점수 = []\n",
        "\n",
        "    def 학점추가(self, 이번학기점수):\n",
        "\n",
        "        self.학기점수.append(이번학기점수)\n",
        "\n",
        "    def 학점평균(self):\n",
        "\n",
        "        return sum(self.학기점수) / len(self.학기점수)\n",
        "\n",
        "    def 졸업장출력(self):\n",
        "        return print(f'총학점 {self.학점총점}학점, {self.학점평균()}으로 졸업하셨습니다.')\n",
        "\n",
        "피카츄 = 학사정보시스템()\n",
        "파이리 = 학사정보시스템()\n",
        "꼬부기 = 학사정보시스템()\n",
        "\n",
        "# 8 학기\n",
        "피카츄.학점추가(3.2)\n",
        "피카츄.학점추가(3.5)\n",
        "피카츄.학점추가(3.0)\n",
        "피카츄.학점추가(2.8)\n",
        "피카츄.학점추가(3.0)\n",
        "피카츄.학점추가(3.3)\n",
        "피카츄.학점추가(3.0)\n",
        "피카츄.학점추가(3.0)\n",
        "\n",
        "피카츄.학점평균()\n",
        "피카츄.졸업장출력()"
      ],
      "metadata": {
        "colab": {
          "base_uri": "https://localhost:8080/"
        },
        "id": "92hHIFIR0RD9",
        "outputId": "91646379-e923-4e45-c12f-12f91898d6ed"
      },
      "execution_count": null,
      "outputs": [
        {
          "output_type": "stream",
          "name": "stdout",
          "text": [
            "총학점 120학점, 3.1으로 졸업하셨습니다.\n"
          ]
        }
      ]
    },
    {
      "cell_type": "code",
      "source": [
        "# 스토리 : 중간에 총학점이 120학점에서 60학점으로 바뀌어서 조기 졸업을 할 수 있게 되었습니다.\n",
        "class 학사정보시스템:\n",
        "\n",
        "    학점총점 = 120\n",
        "\n",
        "    def __init__(self):\n",
        "\n",
        "        self.학기점수 = []\n",
        "\n",
        "    def 학점추가(self, 이번학기점수):\n",
        "\n",
        "        self.학기점수.append(이번학기점수)\n",
        "\n",
        "    def 학점평균(self):\n",
        "\n",
        "        return sum(self.학기점수) / len(self.학기점수)\n",
        "\n",
        "    def 졸업장출력(self):\n",
        "        return print(f'총학점 {self.학점총점}학점, {self.학점평균()}으로 졸업하셨습니다.')\n",
        "\n",
        "피카츄 = 학사정보시스템()\n",
        "파이리 = 학사정보시스템()\n",
        "꼬부기 = 학사정보시스템()\n",
        "\n",
        "피카츄.학점추가(3.2)\n",
        "피카츄.학점추가(3.5)\n",
        "# 총학점 변경\n",
        "피카츄.학점총점 = 60 # 이렇게 해버리면 꼬부기는요??\n",
        "피카츄.학점추가(3.0)\n",
        "피카츄.학점추가(2.8)\n",
        "\n",
        "피카츄.학점평균()\n",
        "피카츄.졸업장출력()"
      ],
      "metadata": {
        "colab": {
          "base_uri": "https://localhost:8080/"
        },
        "id": "MRAIUjUX2j23",
        "outputId": "462110d2-ea69-4d78-d6a7-06d209692834"
      },
      "execution_count": null,
      "outputs": [
        {
          "output_type": "stream",
          "name": "stdout",
          "text": [
            "총학점 60학점, 3.125으로 졸업하셨습니다.\n"
          ]
        }
      ]
    },
    {
      "cell_type": "code",
      "source": [
        "꼬부기.학점추가(3.2)\n",
        "꼬부기.학점추가(3.5)\n",
        "꼬부기.학점추가(3.0)\n",
        "꼬부기.학점추가(2.8)\n",
        "\n",
        "꼬부기.졸업장출력()"
      ],
      "metadata": {
        "colab": {
          "base_uri": "https://localhost:8080/"
        },
        "id": "T6GWE7aJ3CYT",
        "outputId": "163e57d7-2ea6-43dc-a6b0-2c230fc4d4f6"
      },
      "execution_count": null,
      "outputs": [
        {
          "output_type": "stream",
          "name": "stdout",
          "text": [
            "총학점 120학점, 3.125으로 졸업하셨습니다.\n"
          ]
        }
      ]
    },
    {
      "cell_type": "code",
      "source": [
        "# 스토리 : 중간에 총학점이 120학점에서 60학점으로 바뀌어서 조기졸업을 할 수 있게 되었습니다!\n",
        "class 학사정보시스템:\n",
        "    학점총점 = 120\n",
        "\n",
        "    def __init__(self):\n",
        "        self.학기점수 = []\n",
        "\n",
        "    def 학점추가(self, 이번학기점수):\n",
        "        self.학기점수.append(이번학기점수)\n",
        "\n",
        "    def 학점평균(self):\n",
        "        return sum(self.학기점수)/len(self.학기점수)\n",
        "\n",
        "    def 졸업장출력(self):\n",
        "        return f'총학점 {self.학점총점}학점, {self.학점평균()}으로 졸업하셨습니다.'\n",
        "\n",
        "피카츄 = 학사정보시스템()\n",
        "꼬부기 = 학사정보시스템()\n",
        "\n",
        "피카츄.학점추가(3.2)\n",
        "피카츄.학점추가(3.5)\n",
        "학사정보시스템.학점총점 = 60 # 이 코드가 변경이 된 것입니다. 이 방법을 저는 많이 사용하는데요.\n",
        "# 저는 이 코드의 위험성을 알고 있습니다. 제가 실수하지 않을 것을 알고 있기 때문에 이코드를 사용합니다.\n",
        "# 협업을 하거나 안정성을 더 확보하고 싶다면 클래스 메서드로 수정을 해주세요.\n",
        "피카츄.학점추가(3.0)\n",
        "피카츄.학점추가(2.8)\n",
        "\n",
        "피카츄.학점평균()\n",
        "print(피카츄.졸업장출력())\n",
        "\n",
        "꼬부기.학점추가(3.0)\n",
        "print(꼬부기.졸업장출력()) # 둘 다 변한 것을 확인할 수 있습니다."
      ],
      "metadata": {
        "colab": {
          "base_uri": "https://localhost:8080/"
        },
        "id": "NyrV9VYC3Rqu",
        "outputId": "6abf7051-9305-444d-ec0b-740c1f489a1f"
      },
      "execution_count": null,
      "outputs": [
        {
          "output_type": "stream",
          "name": "stdout",
          "text": [
            "총학점 60학점, 3.125으로 졸업하셨습니다.\n",
            "총학점 60학점, 3.0으로 졸업하셨습니다.\n"
          ]
        }
      ]
    },
    {
      "cell_type": "code",
      "source": [
        "# 스토리 : 중간에 총학점이 120학점에서 60학점으로 바뀌어서 조기졸업을 할 수 있게 되었습니다!\n",
        "class 학사정보시스템:\n",
        "    학점총점 = 120\n",
        "\n",
        "    def __init__(self):\n",
        "        self.학기점수 = []\n",
        "\n",
        "    def 학점추가(self, 이번학기점수):\n",
        "        self.학기점수.append(이번학기점수)\n",
        "\n",
        "    def 학점평균(self):\n",
        "        return sum(self.학기점수)/len(self.학기점수)\n",
        "\n",
        "    def 졸업장출력(self):\n",
        "        return f'총학점 {self.학점총점}학점, {self.학점평균()}으로 졸업하셨습니다.'\n",
        "\n",
        "피카츄 = 학사정보시스템()\n",
        "꼬부기 = 학사정보시스템()\n",
        "\n",
        "피카츄.학점추가(3.2)\n",
        "피카츄.학점추가(3.5)\n",
        "학사정보시스템.학점총점 = '60' # 위험한 상황, 숫자가 들어가야 하는데 문자가 들어갔습니다.\n",
        "# 만약에 학점총점으로 들어가는 산술 연산되는 메서드가 있었다면 이제 그 메서드는 오류를 냅니다.\n",
        "피카츄.학점추가(3.0)\n",
        "피카츄.학점추가(2.8)\n",
        "\n",
        "피카츄.학점평균()\n",
        "print(피카츄.졸업장출력())\n",
        "\n",
        "꼬부기.학점추가(3.0)\n",
        "print(꼬부기.졸업장출력()) # 둘 다 변한 것을 확인할 수 있습니다."
      ],
      "metadata": {
        "colab": {
          "base_uri": "https://localhost:8080/"
        },
        "id": "EZA8XcWT3nJc",
        "outputId": "3bac09fc-f88d-4a45-c096-b2f9ec92608f"
      },
      "execution_count": null,
      "outputs": [
        {
          "output_type": "stream",
          "name": "stdout",
          "text": [
            "총학점 60학점, 3.125으로 졸업하셨습니다.\n",
            "총학점 60학점, 3.0으로 졸업하셨습니다.\n"
          ]
        }
      ]
    },
    {
      "cell_type": "code",
      "source": [
        "# 스토리 : 중간에 총학점이 120학점에서 60학점으로 바뀌어서 조기졸업을 할 수 있게 되었습니다!\n",
        "class 학사정보시스템:\n",
        "    학점총점 = 120\n",
        "\n",
        "    def __init__(self):\n",
        "        self.학기점수 = []\n",
        "\n",
        "    def 학점추가(self, 이번학기점수):\n",
        "        self.학기점수.append(이번학기점수)\n",
        "\n",
        "    def 학점평균(self):\n",
        "        return sum(self.학기점수)/len(self.학기점수)\n",
        "\n",
        "    def 졸업장출력(self):\n",
        "        return f'총학점 {self.학점총점}학점, {self.학점평균()}으로 졸업하셨습니다.'\n",
        "\n",
        "    @classmethod\n",
        "    def 학점총점변경(cls, 총점):\n",
        "        if isinstance(총점, int):\n",
        "            cls.학점총점 = 총점\n",
        "            return '변경됨'\n",
        "        return '변경안됨'\n",
        "\n",
        "피카츄 = 학사정보시스템()\n",
        "꼬부기 = 학사정보시스템()\n",
        "\n",
        "피카츄.학점추가(3.2)\n",
        "피카츄.학점추가(3.5)\n",
        "학사정보시스템.학점총점변경(60)\n",
        "학사정보시스템.학점총점변경(120.5) # 무시\n",
        "학사정보시스템.학점총점변경('60') # 무시\n",
        "피카츄.학점추가(3.0)\n",
        "피카츄.학점추가(2.8)\n",
        "\n",
        "피카츄.학점평균()\n",
        "print(피카츄.졸업장출력())\n",
        "\n",
        "꼬부기.학점추가(3.0)\n",
        "print(꼬부기.졸업장출력()) # 둘 다 변한 것을 확인할 수 있습니다."
      ],
      "metadata": {
        "colab": {
          "base_uri": "https://localhost:8080/"
        },
        "id": "9ztGFWpa4V8E",
        "outputId": "ad6d3fc6-7080-402e-d40c-b2398904e79e"
      },
      "execution_count": null,
      "outputs": [
        {
          "output_type": "stream",
          "name": "stdout",
          "text": [
            "총학점 60학점, 3.125으로 졸업하셨습니다.\n",
            "총학점 60학점, 3.0으로 졸업하셨습니다.\n"
          ]
        }
      ]
    },
    {
      "cell_type": "code",
      "source": [
        "class 학사정보시스템:\n",
        "    학점총점 = 120\n",
        "\n",
        "    def __init__(self):\n",
        "        self.학기점수 = []\n",
        "\n",
        "    def 학점추가(self, 이번학기점수):\n",
        "        self.학기점수.append(이번학기점수)\n",
        "\n",
        "    def 학점평균(self):\n",
        "        return sum(self.학기점수)/len(self.학기점수)\n",
        "\n",
        "    def 졸업장출력(self):\n",
        "        return f'총학점 {self.학점총점}학점, {self.학점평균()}으로 졸업하셨습니다.'\n",
        "\n",
        "    @staticmethod\n",
        "    def 학사경고(이번학기점수):\n",
        "        '''\n",
        "        내부에서 클래스 변수, 인스턴스 변수 수정하는 것이 가능하지 않습니다.\n",
        "        '''\n",
        "        if 이번학기점수 - 1.5 > 0:\n",
        "            return '학사경고 아님!'\n",
        "        return '학사경고임!'\n",
        "\n",
        "    @classmethod\n",
        "    def 학점총점변경(cls, 총점):\n",
        "        if isinstance(총점, int):\n",
        "            cls.학점총점 = 총점\n",
        "            return '변경됨'\n",
        "        return '변경안됨'\n",
        "\n",
        "학사정보시스템.학사경고(1.4)\n",
        "학사정보시스템.학사경고(1.6)"
      ],
      "metadata": {
        "colab": {
          "base_uri": "https://localhost:8080/",
          "height": 35
        },
        "id": "tHRU8zji6BnI",
        "outputId": "f3a55db3-ae20-45f4-f12a-2a594dd597fd"
      },
      "execution_count": null,
      "outputs": [
        {
          "output_type": "execute_result",
          "data": {
            "text/plain": [
              "'학사경고 아님!'"
            ],
            "application/vnd.google.colaboratory.intrinsic+json": {
              "type": "string"
            }
          },
          "metadata": {},
          "execution_count": 34
        }
      ]
    },
    {
      "cell_type": "code",
      "source": [
        "class Person:\n",
        "    def __init__(self, first_name, last_name):\n",
        "        self._first_name = first_name\n",
        "        self._last_name = last_name\n",
        "\n",
        "    @property\n",
        "    def full_name(self):\n",
        "        return f'{self._first_name}{self._last_name}'\n",
        "\n",
        "licat = Person('li', 'cat')\n",
        "print(licat._first_name)\n",
        "print(licat._last_name)\n",
        "print(licat.full_name)\n",
        "# print(licat.full_name())"
      ],
      "metadata": {
        "colab": {
          "base_uri": "https://localhost:8080/"
        },
        "id": "UTadizOr6yte",
        "outputId": "e3183022-e71b-4baa-e64c-bb8ed0b3aa59"
      },
      "execution_count": null,
      "outputs": [
        {
          "output_type": "stream",
          "name": "stdout",
          "text": [
            "li\n",
            "cat\n",
            "licat\n"
          ]
        }
      ]
    },
    {
      "cell_type": "code",
      "source": [
        "class Person:\n",
        "    def __init__(self, first_name, last_name):\n",
        "        self._first_name = first_name\n",
        "        self._last_name = last_name\n",
        "\n",
        "    @property\n",
        "    def full_name(self):\n",
        "        return f'{self._first_name}{self._last_name}'\n",
        "\n",
        "licat = Person('li', 'cat')\n",
        "mura = Person('mu', 'ra')\n",
        "print(licat._first_name)\n",
        "print(licat._last_name)\n",
        "print(licat.full_name) # 클래스 변수였다면 둘 다 같은 값을 출력했었어야 합니다.\n",
        "print(mura.full_name)"
      ],
      "metadata": {
        "colab": {
          "base_uri": "https://localhost:8080/"
        },
        "id": "6dYqvozN-DpN",
        "outputId": "f5b24fc9-c3b1-4ffc-eb0c-c45ede9724ea"
      },
      "execution_count": null,
      "outputs": [
        {
          "output_type": "stream",
          "name": "stdout",
          "text": [
            "li\n",
            "cat\n",
            "licat\n",
            "mura\n"
          ]
        }
      ]
    },
    {
      "cell_type": "code",
      "source": [
        "class Person:\n",
        "    def __init__(self, first_name, last_name):\n",
        "        self._first_name = first_name\n",
        "        self._last_name = last_name\n",
        "\n",
        "    @property\n",
        "    def full_name(self):\n",
        "        return f'{self._first_name}{self._last_name}'\n",
        "\n",
        "    def namemul(self):\n",
        "        return self.full_name * 2 # 클래스 내부에서도 self.full_name, 인스턴스 변수처럼 취급됩니다.\n",
        "\n",
        "licat = Person('li', 'cat')\n",
        "mura = Person('mu', 'ra')\n",
        "print(licat._first_name)\n",
        "print(licat._last_name)\n",
        "print(licat.full_name) # 클래스 변수였다면 둘 다 같은 값을 출력했었어야 합니다.\n",
        "print(mura.full_name) # 클래스 변수였다면 둘 다 같은 값을 출력했었어야 합니다.\n",
        "print(mura.namemul())"
      ],
      "metadata": {
        "colab": {
          "base_uri": "https://localhost:8080/"
        },
        "id": "cozj8QW0-ORI",
        "outputId": "1f214bce-97c4-422c-febe-ccda046e829d"
      },
      "execution_count": null,
      "outputs": [
        {
          "output_type": "stream",
          "name": "stdout",
          "text": [
            "li\n",
            "cat\n",
            "licat\n",
            "mura\n",
            "muramura\n"
          ]
        }
      ]
    },
    {
      "cell_type": "code",
      "source": [
        "class Duck:\n",
        "    def introduce(self):\n",
        "        print('꽥꽥!')\n",
        "\n",
        "class Person:\n",
        "    def introduce(self):\n",
        "        print(\"안녕하세요!\")\n",
        "\n",
        "def introduce(obj):\n",
        "    print('인사시작')\n",
        "    obj.introduce()\n",
        "    print('인사끝')\n",
        "\n",
        "duck = Duck()\n",
        "person = Person()\n",
        "\n",
        "introduce(duck)  # 출력: 꽥꽥!\n",
        "introduce(person)  # 출력: 안녕하세요!\n",
        "\n",
        "# 장점1. 코드의 가독성이 좋아집니다. duck.introduce() 이렇게 사용하지 않고 introduce(duck)로 사용하게 되면\n",
        "# duck에 object 안을 들여다보지 않고, 어느정도 기능을 유추할 수 있게 됩니다.\n",
        "# 장점2. 여러가지 obj를 하나의 함수에서 실행하며 커스터마이징도 가능합니다."
      ],
      "metadata": {
        "colab": {
          "base_uri": "https://localhost:8080/"
        },
        "id": "jWwA8GWr9ll3",
        "outputId": "ac416518-f59f-4c2f-b9c6-90f5a7f47de2"
      },
      "execution_count": null,
      "outputs": [
        {
          "output_type": "stream",
          "name": "stdout",
          "text": [
            "인사시작\n",
            "꽥꽥!\n",
            "인사끝\n",
            "인사시작\n",
            "안녕하세요!\n",
            "인사끝\n"
          ]
        }
      ]
    },
    {
      "cell_type": "code",
      "source": [
        "class Hero:\n",
        "    def move(self):\n",
        "        print('h 움직임')\n",
        "\n",
        "class Villian:\n",
        "    def move(self):\n",
        "        print('v 움직임')\n",
        "\n",
        "class Mob:\n",
        "    def move(self):\n",
        "        print('m 움직임')\n",
        "\n",
        "def move(obj):\n",
        "    obj.move()\n",
        "\n",
        "a = Hero()\n",
        "b = Villian()\n",
        "c = Mob()\n",
        "\n",
        "등장인물 = [a, b, c]\n",
        "\n",
        "for person in 등장인물:\n",
        "    move(person) # 강요도 아니고 권고도 아니고, 취향에 따라 선택하시면 됩니다.\n",
        "    person.move() # 나는 이렇게 사용해야겠다 하시면 사용"
      ],
      "metadata": {
        "colab": {
          "base_uri": "https://localhost:8080/"
        },
        "id": "EgjMQep0Af8a",
        "outputId": "c8ef2cc8-ba73-467f-89b8-af7a003b0896"
      },
      "execution_count": null,
      "outputs": [
        {
          "output_type": "stream",
          "name": "stdout",
          "text": [
            "h 움직임\n",
            "h 움직임\n",
            "v 움직임\n",
            "v 움직임\n",
            "m 움직임\n",
            "m 움직임\n"
          ]
        }
      ]
    },
    {
      "cell_type": "markdown",
      "source": [
        "# 추상클래스와 인터페이스"
      ],
      "metadata": {
        "id": "0gjHkganDcAs"
      }
    },
    {
      "cell_type": "code",
      "source": [
        "from abc import ABC, abstractmethod\n",
        "\n",
        "class Person(ABC): # ABC를 상속받고\n",
        "\n",
        "    @abstractmethod # abstractmethod라고 선언을 하면\n",
        "    def 숨쉬기(self):\n",
        "        pass\n",
        "\n",
        "    @abstractmethod\n",
        "    def 밥먹기(self):\n",
        "        pass\n",
        "\n",
        "\n",
        "class Hero(Person): # 상속받은 자식에서 반드시 메서드 오버라이딩이 일어나야 합니다.\n",
        "\n",
        "    def 날아다니기(self):\n",
        "        pass\n",
        "\n",
        "\n",
        "ironman = Hero()\n",
        "ironman.move()"
      ],
      "metadata": {
        "id": "7cjS8EefCVr6"
      },
      "execution_count": null,
      "outputs": []
    },
    {
      "cell_type": "code",
      "source": [
        "from abc import ABC, abstractmethod\n",
        "\n",
        "class Person(ABC): # ABC를 상속받고\n",
        "\n",
        "    @abstractmethod # abstractmethod라고 선언을 하면\n",
        "    def move(self):\n",
        "        pass\n",
        "\n",
        "\n",
        "class Hero(Person): # 상속받은 자식에서 반드시 메서드 오버라이딩이 일어나야 합니다.\n",
        "    pass\n",
        "\n",
        "ironman = Hero()\n",
        "ironman.move()"
      ],
      "metadata": {
        "colab": {
          "base_uri": "https://localhost:8080/",
          "height": 237
        },
        "id": "FLaodl84EVYJ",
        "outputId": "9c4c4430-a789-49e6-e6c3-d6133fcaa25f"
      },
      "execution_count": null,
      "outputs": [
        {
          "output_type": "error",
          "ename": "TypeError",
          "evalue": "ignored",
          "traceback": [
            "\u001b[0;31m---------------------------------------------------------------------------\u001b[0m",
            "\u001b[0;31mTypeError\u001b[0m                                 Traceback (most recent call last)",
            "\u001b[0;32m<ipython-input-53-b94f54c8f9e1>\u001b[0m in \u001b[0;36m<cell line: 13>\u001b[0;34m()\u001b[0m\n\u001b[1;32m     11\u001b[0m     \u001b[0;32mpass\u001b[0m\u001b[0;34m\u001b[0m\u001b[0;34m\u001b[0m\u001b[0m\n\u001b[1;32m     12\u001b[0m \u001b[0;34m\u001b[0m\u001b[0m\n\u001b[0;32m---> 13\u001b[0;31m \u001b[0mironman\u001b[0m \u001b[0;34m=\u001b[0m \u001b[0mHero\u001b[0m\u001b[0;34m(\u001b[0m\u001b[0;34m)\u001b[0m\u001b[0;34m\u001b[0m\u001b[0;34m\u001b[0m\u001b[0m\n\u001b[0m\u001b[1;32m     14\u001b[0m \u001b[0mironman\u001b[0m\u001b[0;34m.\u001b[0m\u001b[0m숨쉬기\u001b[0m\u001b[0;34m(\u001b[0m\u001b[0;34m)\u001b[0m\u001b[0;34m\u001b[0m\u001b[0;34m\u001b[0m\u001b[0m\n",
            "\u001b[0;31mTypeError\u001b[0m: Can't instantiate abstract class Hero with abstract method move"
          ]
        }
      ]
    },
    {
      "cell_type": "code",
      "source": [
        "from abc import ABC, abstractmethod\n",
        "\n",
        "class Person(ABC): # ABC를 상속받고\n",
        "\n",
        "    @abstractmethod # abstractmethod라고 선언을 하면\n",
        "    def move(self):\n",
        "        pass\n",
        "\n",
        "\n",
        "class Hero(Person): # 상속받은 자식에서 반드시 메서드 오버라이딩이 일어나야 합니다.\n",
        "    def move(self):\n",
        "        print('날아다닙니다!')\n",
        "\n",
        "ironman = Hero()\n",
        "ironman.move()"
      ],
      "metadata": {
        "colab": {
          "base_uri": "https://localhost:8080/"
        },
        "id": "_c-AjXDyFOjD",
        "outputId": "9b001af2-3f70-4f99-b834-1b49bcc6d792"
      },
      "execution_count": null,
      "outputs": [
        {
          "output_type": "stream",
          "name": "stdout",
          "text": [
            "날아다닙니다!\n"
          ]
        }
      ]
    },
    {
      "cell_type": "markdown",
      "source": [
        "# 비공개속성"
      ],
      "metadata": {
        "id": "GQ49HMKkHoaq"
      }
    },
    {
      "cell_type": "code",
      "source": [
        "# 비공개 속성이 조작 불가능한게 아닙니다!\n",
        "class MyClass:\n",
        "    __a = 10\n",
        "    _a = 100\n",
        "    b = 20\n",
        "\n",
        "    def __init__(self, c, d):\n",
        "        self.__c = c\n",
        "        self.d = d\n",
        "\n",
        "# MyClass.__a\n",
        "test = MyClass(30, 40)\n",
        "# test.__a # 오!? 접근이 가능하지 않네 => 오해입니다.\n",
        "test._a\n",
        "test.MyClass__a = 9000\n",
        "test.MyClass__c = 90000\n",
        "\n",
        "print(test.MyClass__a)\n",
        "print(test.MyClass__c)"
      ],
      "metadata": {
        "colab": {
          "base_uri": "https://localhost:8080/"
        },
        "id": "5MXd1nDoFaon",
        "outputId": "a8dd75e4-2317-4299-ed8e-62d17991e6ca"
      },
      "execution_count": null,
      "outputs": [
        {
          "output_type": "stream",
          "name": "stdout",
          "text": [
            "9000\n",
            "90000\n"
          ]
        }
      ]
    },
    {
      "cell_type": "markdown",
      "source": [
        "# 모듈과 패키지\n",
        "\n",
        "- jun.py파일 작성 후 아래와 같이 입력해 주세요.\n",
        "    ```python\n",
        "    name = 'leehojun'\n",
        "    age = 10\n",
        "\n",
        "    def hello():\n",
        "        return 'hello world'\n",
        "    ```"
      ],
      "metadata": {
        "id": "zs6Z0cHpLkdF"
      }
    },
    {
      "cell_type": "code",
      "source": [
        "import jun # 여기서 jun이 모듈입니다.\n",
        "\n",
        "jun.name # 변수를 호출할 수도 있고\n",
        "jun.hello() # 함수를 호출할 수도 있습니다."
      ],
      "metadata": {
        "colab": {
          "base_uri": "https://localhost:8080/",
          "height": 35
        },
        "id": "AQXT6iySH9Bx",
        "outputId": "2e907d36-a6d7-48ec-85f3-c450d4581eb2"
      },
      "execution_count": null,
      "outputs": [
        {
          "output_type": "execute_result",
          "data": {
            "text/plain": [
              "'hello world'"
            ],
            "application/vnd.google.colaboratory.intrinsic+json": {
              "type": "string"
            }
          },
          "metadata": {},
          "execution_count": 74
        }
      ]
    },
    {
      "cell_type": "code",
      "source": [
        "from jun import name, age # 이것도 많이 사용합니다.\n",
        "from jun1 import name, age\n",
        "\n",
        "# 그러나 저는 이 문법을 좋아하지 않습니다.\n",
        "# 그러나 이 문법은 정말 많이 사용되는 문법입니다!\n",
        "\n",
        "print(name) # 여기에 이름은 누구인가요?\n",
        "print(age) # 여기에 나이는 누구이죠?"
      ],
      "metadata": {
        "colab": {
          "base_uri": "https://localhost:8080/"
        },
        "id": "jdxtqliqNAih",
        "outputId": "1d7786c5-93b0-4b80-9b39-aa0625cff5fc"
      },
      "execution_count": null,
      "outputs": [
        {
          "output_type": "stream",
          "name": "stdout",
          "text": [
            "leehojun\n",
            "10\n"
          ]
        }
      ]
    },
    {
      "cell_type": "code",
      "source": [
        "from jun import name as n # jun의 이름을 n이라는 별명으로 부르겠다?\n",
        "\n",
        "print(n)"
      ],
      "metadata": {
        "colab": {
          "base_uri": "https://localhost:8080/"
        },
        "id": "ky_4vITyNwa8",
        "outputId": "845432d5-1655-4e66-b575-f70f9ec3e04d"
      },
      "execution_count": null,
      "outputs": [
        {
          "output_type": "stream",
          "name": "stdout",
          "text": [
            "leehojun\n"
          ]
        }
      ]
    },
    {
      "cell_type": "code",
      "source": [
        "import jun as j #jun을 j라는 별명으로 부르겠다.?\n",
        "\n",
        "j.name"
      ],
      "metadata": {
        "colab": {
          "base_uri": "https://localhost:8080/",
          "height": 35
        },
        "id": "a0Vnoh17OCNC",
        "outputId": "bdc94011-77a1-48dd-876d-8f751a5bfa90"
      },
      "execution_count": null,
      "outputs": [
        {
          "output_type": "execute_result",
          "data": {
            "text/plain": [
              "'leehojun'"
            ],
            "application/vnd.google.colaboratory.intrinsic+json": {
              "type": "string"
            }
          },
          "metadata": {},
          "execution_count": 79
        }
      ]
    },
    {
      "cell_type": "code",
      "source": [
        "import pandas as pd # 데이터 분석 모듈\n",
        "import numpy as np # 수학 관련 모듈"
      ],
      "metadata": {
        "id": "_KdSD1euOODX"
      },
      "execution_count": null,
      "outputs": []
    },
    {
      "cell_type": "markdown",
      "source": [
        "![image.png](data:image/png;base64,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)"
      ],
      "metadata": {
        "id": "Nqvh8Nn5PFpW"
      }
    },
    {
      "cell_type": "code",
      "source": [
        "import a # 폴더가 있기 때문에 error가 안난겁니다!\n",
        "\n",
        "print(a)\n",
        "#print(a.b.c) # 이렇게 접근 할 수 없습니다!"
      ],
      "metadata": {
        "colab": {
          "base_uri": "https://localhost:8080/"
        },
        "id": "_UaU30JZOYEU",
        "outputId": "81e91c7f-692d-4e61-cb99-d92180bd7484"
      },
      "execution_count": null,
      "outputs": [
        {
          "output_type": "stream",
          "name": "stdout",
          "text": [
            "<module 'a' (<_frozen_importlib_external._NamespaceLoader object at 0x79e9100061d0>)>\n"
          ]
        }
      ]
    },
    {
      "cell_type": "code",
      "source": [
        "import a.b.c.licat\n",
        "\n",
        "#print(licat)\n",
        "print(a.b.c.licat)\n",
        "print(a.b.c.licat.name)\n",
        "print(a.b.c.licat.age)"
      ],
      "metadata": {
        "colab": {
          "base_uri": "https://localhost:8080/"
        },
        "id": "oaG7Z60IP3nY",
        "outputId": "2bb77402-d78f-40b8-9923-a07717062065"
      },
      "execution_count": null,
      "outputs": [
        {
          "output_type": "stream",
          "name": "stdout",
          "text": [
            "<module 'a.b.c.licat' from '/content/a/b/c/licat.py'>\n",
            "licat\n",
            "3\n"
          ]
        }
      ]
    },
    {
      "cell_type": "code",
      "source": [
        "import a.b.c.licat as cat\n",
        "\n",
        "print(cat)\n",
        "print(cat.name)\n",
        "print(cat.age)"
      ],
      "metadata": {
        "colab": {
          "base_uri": "https://localhost:8080/"
        },
        "id": "rRa1rLjSPsQx",
        "outputId": "33065bde-192d-4ae0-ad29-48e33cd91727"
      },
      "execution_count": null,
      "outputs": [
        {
          "output_type": "stream",
          "name": "stdout",
          "text": [
            "<module 'a.b.c.licat' from '/content/a/b/c/licat.py'>\n",
            "licat\n",
            "3\n"
          ]
        }
      ]
    },
    {
      "cell_type": "code",
      "source": [
        "# 일반적으로 아래와 같이 사용합니다.\n",
        "# from은 폴더 import는 모듈\n",
        "from a.b.c import licat\n",
        "print(licat)\n",
        "print(licat.name)\n",
        "print(licat.age)"
      ],
      "metadata": {
        "colab": {
          "base_uri": "https://localhost:8080/"
        },
        "id": "COzpRwUOQb1Y",
        "outputId": "6ddb73e3-0c56-49b3-e6e0-426c641f4d0d"
      },
      "execution_count": null,
      "outputs": [
        {
          "output_type": "stream",
          "name": "stdout",
          "text": [
            "<module 'a.b.c.licat' from '/content/a/b/c/licat.py'>\n",
            "licat\n",
            "3\n"
          ]
        }
      ]
    },
    {
      "cell_type": "code",
      "source": [
        "!mkdir leehojun"
      ],
      "metadata": {
        "id": "F1qdskAUUl9k"
      },
      "execution_count": null,
      "outputs": []
    },
    {
      "cell_type": "code",
      "source": [
        "!pip list"
      ],
      "metadata": {
        "id": "In0j508UQsxY"
      },
      "execution_count": null,
      "outputs": []
    },
    {
      "cell_type": "markdown",
      "source": [
        "# 연습문제"
      ],
      "metadata": {
        "id": "j2mogrHjU29I"
      }
    },
    {
      "cell_type": "code",
      "source": [
        "# 아래와 같은 기능을 하는 모듈을 만들어주세요.\n",
        "# add(a, b), sub(a, b), mul(a, b), div(a, b)\n",
        "# _and(a, b), _or(a, b)"
      ],
      "metadata": {
        "id": "arxVf81UUiW4"
      },
      "execution_count": null,
      "outputs": []
    },
    {
      "cell_type": "code",
      "source": [
        "# 구분해서 저장하는 것이 왜 중요하냐면\n",
        "# 유지보수를 좀 더 편리하게 할 수 있습니다..\n",
        "# operation > arithmetic.py\n",
        "def add(a, b):\n",
        "    return a + b\n",
        "\n",
        "def sub(a, b):\n",
        "    return a - b\n",
        "\n",
        "def mul(a, b):\n",
        "    return a * b\n",
        "\n",
        "def div(a, b):\n",
        "    return a / b\n",
        "\n",
        "# operation > logical.py\n",
        "def _and(a, b):\n",
        "    return a and b\n",
        "\n",
        "def _or(a, b):\n",
        "    return a or b"
      ],
      "metadata": {
        "id": "f5MJbJ6GpeXg"
      },
      "execution_count": null,
      "outputs": []
    },
    {
      "cell_type": "markdown",
      "source": [
        "![image.png](data:image/png;base64,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)"
      ],
      "metadata": {
        "id": "MTRW7iPzp96a"
      }
    },
    {
      "cell_type": "code",
      "source": [
        "from operation import arithmetic as ao, logical as lo\n",
        "ao.add(1, 3)\n",
        "lo._and(True, False)\n",
        "lo._or(True, False)\n"
      ],
      "metadata": {
        "colab": {
          "base_uri": "https://localhost:8080/"
        },
        "id": "bPP6lPgWqJfU",
        "outputId": "fe5f3374-7182-4ca0-f1d9-8a5b849e5a4e"
      },
      "execution_count": null,
      "outputs": [
        {
          "output_type": "execute_result",
          "data": {
            "text/plain": [
              "True"
            ]
          },
          "metadata": {},
          "execution_count": 24
        }
      ]
    },
    {
      "cell_type": "code",
      "source": [
        "# 450,000 개 이상의 Python 패키지, 45만개의 바퀴\n",
        "# PyPI (Python Package Index)"
      ],
      "metadata": {
        "id": "gjCD02nksDaG"
      },
      "execution_count": null,
      "outputs": []
    },
    {
      "cell_type": "code",
      "source": [
        "import sys\n",
        "sys.path.append('/content/a/b/c')"
      ],
      "metadata": {
        "id": "BpU3ZiKTueOH"
      },
      "execution_count": null,
      "outputs": []
    },
    {
      "cell_type": "code",
      "source": [
        "import licat\n",
        "\n",
        "licat.name"
      ],
      "metadata": {
        "colab": {
          "base_uri": "https://localhost:8080/",
          "height": 35
        },
        "id": "yTOF0yYDuL7-",
        "outputId": "00adb9aa-2db2-44d4-c1ff-7e4ae7b66f3d"
      },
      "execution_count": null,
      "outputs": [
        {
          "output_type": "execute_result",
          "data": {
            "text/plain": [
              "'licat'"
            ],
            "application/vnd.google.colaboratory.intrinsic+json": {
              "type": "string"
            }
          },
          "metadata": {},
          "execution_count": 3
        }
      ]
    },
    {
      "cell_type": "markdown",
      "source": [
        "# 부록 - 많이 사용하는 모듈"
      ],
      "metadata": {
        "id": "YDY5IFDUvuEu"
      }
    },
    {
      "cell_type": "code",
      "source": [
        "import glob\n",
        "\n",
        "glob.glob('/content/*.py')\n",
        "glob.glob('./*/*.py')\n",
        "glob.glob('./???.py')"
      ],
      "metadata": {
        "colab": {
          "base_uri": "https://localhost:8080/"
        },
        "id": "LfbBas1s0_Pv",
        "outputId": "5be43c46-b762-43fa-d388-6b5baf2755a5"
      },
      "execution_count": null,
      "outputs": [
        {
          "output_type": "execute_result",
          "data": {
            "text/plain": [
              "['./jun.py']"
            ]
          },
          "metadata": {},
          "execution_count": 25
        }
      ]
    },
    {
      "cell_type": "code",
      "source": [
        "import os\n",
        "os.getcwd()\n",
        "# glob 라는 모듈이 폴더 찾고, 파일 찾고 하는 것이 더 좋습니다."
      ],
      "metadata": {
        "colab": {
          "base_uri": "https://localhost:8080/",
          "height": 35
        },
        "id": "alNsnilIvwvq",
        "outputId": "8bf6a825-49cf-4a3a-b939-9c24aa180557"
      },
      "execution_count": null,
      "outputs": [
        {
          "output_type": "execute_result",
          "data": {
            "text/plain": [
              "'/content'"
            ],
            "application/vnd.google.colaboratory.intrinsic+json": {
              "type": "string"
            }
          },
          "metadata": {},
          "execution_count": 12
        }
      ]
    },
    {
      "cell_type": "code",
      "source": [
        "for curDir, dirs, files in os.walk('/content'):\n",
        "    for f in files:\n",
        "        print(os.path.join(curDir, f))"
      ],
      "metadata": {
        "colab": {
          "base_uri": "https://localhost:8080/"
        },
        "id": "W8nVddyOwG0c",
        "outputId": "d6a6f8f8-71ae-45dd-ebb4-ff610df6b615"
      },
      "execution_count": null,
      "outputs": [
        {
          "output_type": "stream",
          "name": "stdout",
          "text": [
            "/content/jun.py\n",
            "/content/.config/.last_update_check.json\n",
            "/content/.config/default_configs.db\n",
            "/content/.config/.last_opt_in_prompt.yaml\n",
            "/content/.config/active_config\n",
            "/content/.config/config_sentinel\n",
            "/content/.config/gce\n",
            "/content/.config/.last_survey_prompt.yaml\n",
            "/content/.config/logs/2023.09.15/13.22.10.131489.log\n",
            "/content/.config/logs/2023.09.15/13.22.09.324179.log\n",
            "/content/.config/logs/2023.09.15/13.21.32.854551.log\n",
            "/content/.config/logs/2023.09.15/13.21.41.882195.log\n",
            "/content/.config/logs/2023.09.15/13.20.39.626976.log\n",
            "/content/.config/logs/2023.09.15/13.21.06.946322.log\n",
            "/content/.config/configurations/config_default\n",
            "/content/operation/logical.py\n",
            "/content/operation/arithmetic.py\n",
            "/content/operation/__pycache__/arithmetic.cpython-310.pyc\n",
            "/content/operation/__pycache__/logical.cpython-310.pyc\n",
            "/content/__pycache__/jun.cpython-310.pyc\n",
            "/content/a/b/c/licat.py\n",
            "/content/a/b/c/__pycache__/add.cpython-310.pyc\n",
            "/content/a/b/c/__pycache__/licat.cpython-310.pyc\n",
            "/content/a/b/c/__pycache__/sub.cpython-310.pyc\n",
            "/content/a/b/c/__pycache__/mul.cpython-310.pyc\n",
            "/content/a/b/c/__pycache__/div.cpython-310.pyc\n",
            "/content/sample_data/anscombe.json\n",
            "/content/sample_data/README.md\n",
            "/content/sample_data/mnist_train_small.csv\n",
            "/content/sample_data/mnist_test.csv\n",
            "/content/sample_data/california_housing_test.csv\n",
            "/content/sample_data/california_housing_train.csv\n"
          ]
        }
      ]
    },
    {
      "cell_type": "code",
      "source": [
        "# os.mkdir()\n",
        "# os.rename()\n",
        "# os.remove()"
      ],
      "metadata": {
        "id": "dQ5gLGI0weJz"
      },
      "execution_count": null,
      "outputs": []
    },
    {
      "cell_type": "code",
      "source": [
        "import sys\n",
        "\n",
        "a = [1, 2, 3]\n",
        "b = a\n",
        "c = a\n",
        "\n",
        "# sys.getsizeof()\n",
        "# sys.path\n",
        "sys.getrefcount(a)"
      ],
      "metadata": {
        "colab": {
          "base_uri": "https://localhost:8080/"
        },
        "id": "eRsHfuT2wzkv",
        "outputId": "4a7666d0-919a-4bdf-d530-e83179482f9d"
      },
      "execution_count": null,
      "outputs": [
        {
          "output_type": "execute_result",
          "data": {
            "text/plain": [
              "4"
            ]
          },
          "metadata": {},
          "execution_count": 18
        }
      ]
    },
    {
      "cell_type": "code",
      "source": [
        "a = [1, 2, 3, 4]\n",
        "sys.getrefcount(a)"
      ],
      "metadata": {
        "colab": {
          "base_uri": "https://localhost:8080/"
        },
        "id": "bpEdnHQZxLuW",
        "outputId": "fa6c27ea-4c51-4854-bc80-24fb0a2fbe33"
      },
      "execution_count": null,
      "outputs": [
        {
          "output_type": "execute_result",
          "data": {
            "text/plain": [
              "2"
            ]
          },
          "metadata": {},
          "execution_count": 20
        }
      ]
    },
    {
      "cell_type": "code",
      "source": [
        "import datetime\n",
        "\n",
        "s = datetime.datetime(2023, 9, 19, 14, 10)\n",
        "\n",
        "print(s)"
      ],
      "metadata": {
        "colab": {
          "base_uri": "https://localhost:8080/"
        },
        "id": "D-LDYWYZvEkk",
        "outputId": "acf5997b-0136-4d7e-a62f-438c67151393"
      },
      "execution_count": null,
      "outputs": [
        {
          "output_type": "stream",
          "name": "stdout",
          "text": [
            "2023-09-19 14:10:00\n"
          ]
        }
      ]
    },
    {
      "cell_type": "code",
      "source": [
        "s.year, s.month, s.day, s.hour, s.minute"
      ],
      "metadata": {
        "colab": {
          "base_uri": "https://localhost:8080/"
        },
        "id": "Vdawu_AC2j4C",
        "outputId": "0f8c5a53-c5be-49fc-f4ae-55d40ddd5f83"
      },
      "execution_count": null,
      "outputs": [
        {
          "output_type": "execute_result",
          "data": {
            "text/plain": [
              "(2023, 9, 19, 14, 10)"
            ]
          },
          "metadata": {},
          "execution_count": 34
        }
      ]
    },
    {
      "cell_type": "code",
      "source": [
        "s = datetime.datetime(2023, 9, 18, 14, 10)\n",
        "s.weekday() # 월요일 0, 화요일 1, 수요일 2, ..., 일요일 6"
      ],
      "metadata": {
        "colab": {
          "base_uri": "https://localhost:8080/"
        },
        "id": "2vMC0Ouh2tdR",
        "outputId": "78dc314c-424b-4921-df41-c760c7a4eb0c"
      },
      "execution_count": null,
      "outputs": [
        {
          "output_type": "execute_result",
          "data": {
            "text/plain": [
              "0"
            ]
          },
          "metadata": {},
          "execution_count": 38
        }
      ]
    },
    {
      "cell_type": "code",
      "source": [
        "today = datetime.date.today()\n",
        "today"
      ],
      "metadata": {
        "colab": {
          "base_uri": "https://localhost:8080/"
        },
        "id": "jsFcYcO-21Bo",
        "outputId": "a6aec038-69b7-4b47-98d0-a4ebf29e64bd"
      },
      "execution_count": null,
      "outputs": [
        {
          "output_type": "execute_result",
          "data": {
            "text/plain": [
              "datetime.date(2023, 9, 19)"
            ]
          },
          "metadata": {},
          "execution_count": 53
        }
      ]
    },
    {
      "cell_type": "code",
      "source": [
        "graduation_date = datetime.datetime(2023, 12, 29, 18, 00)\n",
        "today = datetime.date.today()\n",
        "days = datetime.timedelta(days=100)\n",
        "today + days"
      ],
      "metadata": {
        "colab": {
          "base_uri": "https://localhost:8080/"
        },
        "id": "PzwT1tJe3aoo",
        "outputId": "b1ae9fa2-604e-4cb8-8e6f-e204a6a02ca8"
      },
      "execution_count": null,
      "outputs": [
        {
          "output_type": "execute_result",
          "data": {
            "text/plain": [
              "datetime.date(2023, 12, 28)"
            ]
          },
          "metadata": {},
          "execution_count": 54
        }
      ]
    },
    {
      "cell_type": "code",
      "source": [
        "type(today), type(graduation_date)"
      ],
      "metadata": {
        "colab": {
          "base_uri": "https://localhost:8080/"
        },
        "id": "-Nxmdaxn4mMv",
        "outputId": "3216b568-01f1-4d2e-b171-0fba34e619fd"
      },
      "execution_count": null,
      "outputs": [
        {
          "output_type": "execute_result",
          "data": {
            "text/plain": [
              "(datetime.date, datetime.datetime)"
            ]
          },
          "metadata": {},
          "execution_count": 55
        }
      ]
    },
    {
      "cell_type": "code",
      "source": [
        "today = datetime.datetime.combine(datetime.date.today(), datetime.datetime.min.time())\n",
        "type(today)"
      ],
      "metadata": {
        "colab": {
          "base_uri": "https://localhost:8080/"
        },
        "id": "uRJoxyyh4pDQ",
        "outputId": "554ed45d-9ec9-4742-f19c-6c9199c60262"
      },
      "execution_count": null,
      "outputs": [
        {
          "output_type": "execute_result",
          "data": {
            "text/plain": [
              "datetime.datetime"
            ]
          },
          "metadata": {},
          "execution_count": 56
        }
      ]
    },
    {
      "cell_type": "code",
      "source": [
        "graduation_date - today"
      ],
      "metadata": {
        "colab": {
          "base_uri": "https://localhost:8080/"
        },
        "id": "F_yNSfGL5Q19",
        "outputId": "557d90f7-a836-41ba-d055-3bebfc1a35f9"
      },
      "execution_count": null,
      "outputs": [
        {
          "output_type": "execute_result",
          "data": {
            "text/plain": [
              "datetime.timedelta(days=101, seconds=64800)"
            ]
          },
          "metadata": {},
          "execution_count": 57
        }
      ]
    },
    {
      "cell_type": "code",
      "source": [
        "import json\n",
        "\n",
        "d = {\n",
        "    'one': 1,\n",
        "    'two': 2,\n",
        "    'three': 3\n",
        "}\n",
        "s = json.dumps(d)\n",
        "type(s)\n",
        "s[:3]"
      ],
      "metadata": {
        "colab": {
          "base_uri": "https://localhost:8080/",
          "height": 35
        },
        "id": "-PTPHrxF5RQn",
        "outputId": "8372450d-4426-4a94-8d2a-c350ee274c37"
      },
      "execution_count": null,
      "outputs": [
        {
          "output_type": "execute_result",
          "data": {
            "text/plain": [
              "'{\"o'"
            ],
            "application/vnd.google.colaboratory.intrinsic+json": {
              "type": "string"
            }
          },
          "metadata": {},
          "execution_count": 61
        }
      ]
    },
    {
      "cell_type": "code",
      "source": [
        "dd = json.loads(s)\n",
        "type(dd)"
      ],
      "metadata": {
        "colab": {
          "base_uri": "https://localhost:8080/"
        },
        "id": "dcZWIUm3509J",
        "outputId": "045ff6c1-f2bb-4b1f-bbc3-cdc28602cff1"
      },
      "execution_count": null,
      "outputs": [
        {
          "output_type": "execute_result",
          "data": {
            "text/plain": [
              "dict"
            ]
          },
          "metadata": {},
          "execution_count": 64
        }
      ]
    },
    {
      "cell_type": "code",
      "source": [
        "class Human:\n",
        "    def __init__(self, x, y):\n",
        "        self.x = x\n",
        "        self.y = y\n",
        "\n",
        "jun = Human(10, 20)\n",
        "# json.dumps(jun)\n",
        "\n",
        "# TypeError: Object of type Human is not JSON serializable(직렬화가 가능하지 않다!)\n",
        "# 일반 인스턴스는 직렬화가 가능하지 않습니다!\n",
        "# 직렬화: \"데이터 구조나 오브젝트 상태를 동일하거나 다른 컴퓨터 환경에 저장\n",
        "# (이를테면 파일이나 메모리 버퍼에서, 또는 네트워크 연결 링크 간 전송)하고,\n",
        "# 나중에 재구성할 수 있는 포맷으로 변환하는 과정\""
      ],
      "metadata": {
        "id": "h8b7Lw7d6D0z"
      },
      "execution_count": null,
      "outputs": []
    },
    {
      "cell_type": "code",
      "source": [
        "import collections\n",
        "\n",
        "d = collections.deque([1, 2, 3, 4])\n",
        "d.rotate(1) # 회전초밥 문제\n",
        "d"
      ],
      "metadata": {
        "colab": {
          "base_uri": "https://localhost:8080/"
        },
        "id": "1ILiUZSq6zEh",
        "outputId": "48df4914-1a57-4c25-f626-e8e7d421c676"
      },
      "execution_count": null,
      "outputs": [
        {
          "output_type": "execute_result",
          "data": {
            "text/plain": [
              "deque([4, 1, 2, 3])"
            ]
          },
          "metadata": {},
          "execution_count": 92
        }
      ]
    },
    {
      "cell_type": "code",
      "source": [
        "d.rotate(1) # 회전초밥 문제\n",
        "d"
      ],
      "metadata": {
        "colab": {
          "base_uri": "https://localhost:8080/"
        },
        "id": "vLDyI5ry7quI",
        "outputId": "fc342577-f5ff-4c23-8e13-059bf6499c8b"
      },
      "execution_count": null,
      "outputs": [
        {
          "output_type": "execute_result",
          "data": {
            "text/plain": [
              "deque([3, 4, 1, 2])"
            ]
          },
          "metadata": {},
          "execution_count": 93
        }
      ]
    },
    {
      "cell_type": "code",
      "source": [
        "d.rotate(1) # 회전초밥 문제\n",
        "d"
      ],
      "metadata": {
        "colab": {
          "base_uri": "https://localhost:8080/"
        },
        "id": "d0icwJu97q8P",
        "outputId": "5d07b573-4a84-45bb-a7e0-1bb33c41ec9e"
      },
      "execution_count": null,
      "outputs": [
        {
          "output_type": "execute_result",
          "data": {
            "text/plain": [
              "deque([2, 3, 4, 1])"
            ]
          },
          "metadata": {},
          "execution_count": 94
        }
      ]
    },
    {
      "cell_type": "code",
      "source": [
        "c = collections.Counter('hello world')\n",
        "c"
      ],
      "metadata": {
        "colab": {
          "base_uri": "https://localhost:8080/"
        },
        "id": "wguv65uo7rOS",
        "outputId": "6ddc836a-1648-4819-faa7-387d89ebd15c"
      },
      "execution_count": null,
      "outputs": [
        {
          "output_type": "execute_result",
          "data": {
            "text/plain": [
              "Counter({'h': 1, 'e': 1, 'l': 3, 'o': 2, ' ': 1, 'w': 1, 'r': 1, 'd': 1})"
            ]
          },
          "metadata": {},
          "execution_count": 105
        }
      ]
    },
    {
      "cell_type": "code",
      "source": [
        "c.most_common()"
      ],
      "metadata": {
        "colab": {
          "base_uri": "https://localhost:8080/"
        },
        "id": "2ojBBCzG8HyH",
        "outputId": "1adcd815-6c58-4a18-f1f3-ca49b0743501"
      },
      "execution_count": null,
      "outputs": [
        {
          "output_type": "execute_result",
          "data": {
            "text/plain": [
              "[('l', 3),\n",
              " ('o', 2),\n",
              " ('h', 1),\n",
              " ('e', 1),\n",
              " (' ', 1),\n",
              " ('w', 1),\n",
              " ('r', 1),\n",
              " ('d', 1)]"
            ]
          },
          "metadata": {},
          "execution_count": 106
        }
      ]
    },
    {
      "cell_type": "code",
      "source": [
        "# 지금부터 실습하는 것은 강사님 혼자만..!\n",
        "# 이 코드만 가지고 있기!\n",
        "import requests\n",
        "from bs4 import BeautifulSoup\n",
        "\n",
        "paullab_url = 'https://paullab.co.kr/bookservice/'\n",
        "response = requests.get(paullab_url)\n",
        "response.encoding = 'utf-8'\n",
        "html = response.text\n",
        "\n",
        "soup = BeautifulSoup(html, 'html.parser')\n",
        "\n",
        "bookservices = soup.select('.col-lg-6 > h2')     # col-lg-6 클래스 안의 h2 태그 탐색\n",
        "for no, book in enumerate(bookservices, 1):\n",
        "    print(no, book.text)"
      ],
      "metadata": {
        "colab": {
          "base_uri": "https://localhost:8080/"
        },
        "id": "aJVDK9MU8Wzh",
        "outputId": "b0b714c6-4e2c-4f08-d01e-73e6df8063fa"
      },
      "execution_count": null,
      "outputs": [
        {
          "output_type": "stream",
          "name": "stdout",
          "text": [
            "1 메모혁신 Notion(노션) 활용 가이드\n",
            "2 제주코딩베이스캠프 Code Festival: Python 100제 1부\n",
            "3 튜토리얼로 배우는 HTML&CSS\n",
            "4 코딩도장 튜토리얼로 배우는 Python 1편 object\n",
            "5 코딩도장 튜토리얼로 배우는 python 2편 제어문\n",
            "6 코딩도장 튜토리얼로 배우는 Python 문제풀이\n",
            "7 타노스의 건틀릿 알고리즘 With Python\n",
            "8 xlsxwriter 튜토리얼로 배우는 Python 엑셀 프로그래밍\n",
            "9 러플 튜토리얼로 배우는 Python\n",
            "10 인공지능을 활용한 업무자동화 With Google Developers Group JEJU\n",
            "11 2017 제주 코딩 해커톤 Django 트랙 상편 1권\n"
          ]
        }
      ]
    },
    {
      "cell_type": "markdown",
      "source": [
        "# 예외 처리와 오류 관리"
      ],
      "metadata": {
        "id": "4OvxHKvGB1Xp"
      }
    },
    {
      "cell_type": "code",
      "source": [
        "# SyntaxError\n",
        "# for i in range(10)\n",
        "#     print(i)\n",
        "if False:\n",
        "    raise SyntaxError\n",
        "if True:\n",
        "    raise SyntaxError('hello world') #여러분의 의도에 맞게 적절한 error를 주실 필요가 있습니다."
      ],
      "metadata": {
        "colab": {
          "base_uri": "https://localhost:8080/",
          "height": 255
        },
        "id": "hIfDQuDY82Z8",
        "outputId": "3ea90276-9839-45dc-ae6c-a4acefa7e076"
      },
      "execution_count": null,
      "outputs": [
        {
          "output_type": "error",
          "ename": "SyntaxError",
          "evalue": "ignored",
          "traceback": [
            "Traceback \u001b[0;36m(most recent call last)\u001b[0m:\n",
            "  File \u001b[1;32m\"/usr/local/lib/python3.10/dist-packages/IPython/core/interactiveshell.py\"\u001b[0m, line \u001b[1;32m3553\u001b[0m, in \u001b[1;35mrun_code\u001b[0m\n    exec(code_obj, self.user_global_ns, self.user_ns)\n",
            "\u001b[0;36m  File \u001b[0;32m\"<ipython-input-112-4111218cd5b0>\"\u001b[0;36m, line \u001b[0;32m7\u001b[0;36m, in \u001b[0;35m<cell line: 6>\u001b[0;36m\u001b[0m\n\u001b[0;31m    raise SyntaxError('hello world') #여러분의 의도에 맞게 적절한 error를 주실 필요가 있습니다.\u001b[0m\n",
            "\u001b[0;36m  File \u001b[0;32m\"<string>\"\u001b[0;36m, line \u001b[0;32munknown\u001b[0m\n\u001b[0;31mSyntaxError\u001b[0m\u001b[0;31m:\u001b[0m hello world\n"
          ]
        }
      ]
    },
    {
      "cell_type": "code",
      "source": [
        "# Name Error\n",
        "print(x)"
      ],
      "metadata": {
        "colab": {
          "base_uri": "https://localhost:8080/",
          "height": 200
        },
        "id": "_gnPr7P8Cmge",
        "outputId": "a9bb6d41-b153-488c-a9a5-0d4884f42a24"
      },
      "execution_count": null,
      "outputs": [
        {
          "output_type": "error",
          "ename": "NameError",
          "evalue": "ignored",
          "traceback": [
            "\u001b[0;31m---------------------------------------------------------------------------\u001b[0m",
            "\u001b[0;31mNameError\u001b[0m                                 Traceback (most recent call last)",
            "\u001b[0;32m<ipython-input-113-e9e3baa318b0>\u001b[0m in \u001b[0;36m<cell line: 2>\u001b[0;34m()\u001b[0m\n\u001b[1;32m      1\u001b[0m \u001b[0;31m# Name Error\u001b[0m\u001b[0;34m\u001b[0m\u001b[0;34m\u001b[0m\u001b[0m\n\u001b[0;32m----> 2\u001b[0;31m \u001b[0mprint\u001b[0m\u001b[0;34m(\u001b[0m\u001b[0mx\u001b[0m\u001b[0;34m)\u001b[0m\u001b[0;34m\u001b[0m\u001b[0;34m\u001b[0m\u001b[0m\n\u001b[0m",
            "\u001b[0;31mNameError\u001b[0m: name 'x' is not defined"
          ]
        }
      ]
    },
    {
      "cell_type": "code",
      "source": [
        "# Type Error\n",
        "x = 10\n",
        "y = '20'\n",
        "print(x + y)"
      ],
      "metadata": {
        "colab": {
          "base_uri": "https://localhost:8080/",
          "height": 219
        },
        "id": "k__ceErOCnpB",
        "outputId": "2d3f7c84-0a8c-4559-edad-842081094b97"
      },
      "execution_count": null,
      "outputs": [
        {
          "output_type": "error",
          "ename": "TypeError",
          "evalue": "ignored",
          "traceback": [
            "\u001b[0;31m---------------------------------------------------------------------------\u001b[0m",
            "\u001b[0;31mTypeError\u001b[0m                                 Traceback (most recent call last)",
            "\u001b[0;32m<ipython-input-117-62c7d5a446c2>\u001b[0m in \u001b[0;36m<cell line: 4>\u001b[0;34m()\u001b[0m\n\u001b[1;32m      2\u001b[0m \u001b[0mx\u001b[0m \u001b[0;34m=\u001b[0m \u001b[0;36m10\u001b[0m\u001b[0;34m\u001b[0m\u001b[0;34m\u001b[0m\u001b[0m\n\u001b[1;32m      3\u001b[0m \u001b[0my\u001b[0m \u001b[0;34m=\u001b[0m \u001b[0;34m'20'\u001b[0m\u001b[0;34m\u001b[0m\u001b[0;34m\u001b[0m\u001b[0m\n\u001b[0;32m----> 4\u001b[0;31m \u001b[0mprint\u001b[0m\u001b[0;34m(\u001b[0m\u001b[0mx\u001b[0m \u001b[0;34m+\u001b[0m \u001b[0my\u001b[0m\u001b[0;34m)\u001b[0m\u001b[0;34m\u001b[0m\u001b[0;34m\u001b[0m\u001b[0m\n\u001b[0m",
            "\u001b[0;31mTypeError\u001b[0m: unsupported operand type(s) for +: 'int' and 'str'"
          ]
        }
      ]
    },
    {
      "cell_type": "code",
      "source": [
        "# Index Error\n",
        "my_list = [1, 2, 3]\n",
        "print(my_list[3]) # 슬라이싱은 error를 내지 않습니다. 기억해주세요. 많이 사용합니다."
      ],
      "metadata": {
        "colab": {
          "base_uri": "https://localhost:8080/",
          "height": 219
        },
        "id": "O7UehBzkCou2",
        "outputId": "5b3265a5-00d3-4026-8107-3f44c01613d6"
      },
      "execution_count": null,
      "outputs": [
        {
          "output_type": "error",
          "ename": "IndexError",
          "evalue": "ignored",
          "traceback": [
            "\u001b[0;31m---------------------------------------------------------------------------\u001b[0m",
            "\u001b[0;31mIndexError\u001b[0m                                Traceback (most recent call last)",
            "\u001b[0;32m<ipython-input-115-f79f21f7e49e>\u001b[0m in \u001b[0;36m<cell line: 3>\u001b[0;34m()\u001b[0m\n\u001b[1;32m      1\u001b[0m \u001b[0;31m# Index Error\u001b[0m\u001b[0;34m\u001b[0m\u001b[0;34m\u001b[0m\u001b[0m\n\u001b[1;32m      2\u001b[0m \u001b[0mmy_list\u001b[0m \u001b[0;34m=\u001b[0m \u001b[0;34m[\u001b[0m\u001b[0;36m1\u001b[0m\u001b[0;34m,\u001b[0m \u001b[0;36m2\u001b[0m\u001b[0;34m,\u001b[0m \u001b[0;36m3\u001b[0m\u001b[0;34m]\u001b[0m\u001b[0;34m\u001b[0m\u001b[0;34m\u001b[0m\u001b[0m\n\u001b[0;32m----> 3\u001b[0;31m \u001b[0mprint\u001b[0m\u001b[0;34m(\u001b[0m\u001b[0mmy_list\u001b[0m\u001b[0;34m[\u001b[0m\u001b[0;36m3\u001b[0m\u001b[0;34m]\u001b[0m\u001b[0;34m)\u001b[0m\u001b[0;34m\u001b[0m\u001b[0;34m\u001b[0m\u001b[0m\n\u001b[0m",
            "\u001b[0;31mIndexError\u001b[0m: list index out of range"
          ]
        }
      ]
    },
    {
      "cell_type": "code",
      "source": [
        "my_list = [1, 2, 3]\n",
        "my_list.__len__ = 100"
      ],
      "metadata": {
        "colab": {
          "base_uri": "https://localhost:8080/",
          "height": 200
        },
        "id": "64zZ8-QlCptw",
        "outputId": "c3e52365-495a-44eb-f4e7-81ca4bfaea70"
      },
      "execution_count": null,
      "outputs": [
        {
          "output_type": "error",
          "ename": "AttributeError",
          "evalue": "ignored",
          "traceback": [
            "\u001b[0;31m---------------------------------------------------------------------------\u001b[0m",
            "\u001b[0;31mAttributeError\u001b[0m                            Traceback (most recent call last)",
            "\u001b[0;32m<ipython-input-119-ee8c80029694>\u001b[0m in \u001b[0;36m<cell line: 2>\u001b[0;34m()\u001b[0m\n\u001b[1;32m      1\u001b[0m \u001b[0mmy_list\u001b[0m \u001b[0;34m=\u001b[0m \u001b[0;34m[\u001b[0m\u001b[0;36m1\u001b[0m\u001b[0;34m,\u001b[0m \u001b[0;36m2\u001b[0m\u001b[0;34m,\u001b[0m \u001b[0;36m3\u001b[0m\u001b[0;34m]\u001b[0m\u001b[0;34m\u001b[0m\u001b[0;34m\u001b[0m\u001b[0m\n\u001b[0;32m----> 2\u001b[0;31m \u001b[0mmy_list\u001b[0m\u001b[0;34m.\u001b[0m\u001b[0m__len__\u001b[0m \u001b[0;34m=\u001b[0m \u001b[0;36m100\u001b[0m\u001b[0;34m\u001b[0m\u001b[0;34m\u001b[0m\u001b[0m\n\u001b[0m",
            "\u001b[0;31mAttributeError\u001b[0m: 'list' object attribute '__len__' is read-only"
          ]
        }
      ]
    },
    {
      "cell_type": "code",
      "source": [
        "# Key Error\n",
        "my_dict = {'a': 1, 'b': 2}\n",
        "print(my_dict['c']) # key error를 피하기 위해서는 get을 사용합니다."
      ],
      "metadata": {
        "colab": {
          "base_uri": "https://localhost:8080/",
          "height": 219
        },
        "id": "2591JjOWED15",
        "outputId": "0cb90718-ccf2-47b4-81e7-bba32c1ac75f"
      },
      "execution_count": null,
      "outputs": [
        {
          "output_type": "error",
          "ename": "KeyError",
          "evalue": "ignored",
          "traceback": [
            "\u001b[0;31m---------------------------------------------------------------------------\u001b[0m",
            "\u001b[0;31mKeyError\u001b[0m                                  Traceback (most recent call last)",
            "\u001b[0;32m<ipython-input-120-8f9ea626777a>\u001b[0m in \u001b[0;36m<cell line: 3>\u001b[0;34m()\u001b[0m\n\u001b[1;32m      1\u001b[0m \u001b[0;31m# Key Error\u001b[0m\u001b[0;34m\u001b[0m\u001b[0;34m\u001b[0m\u001b[0m\n\u001b[1;32m      2\u001b[0m \u001b[0mmy_dict\u001b[0m \u001b[0;34m=\u001b[0m \u001b[0;34m{\u001b[0m\u001b[0;34m'a'\u001b[0m\u001b[0;34m:\u001b[0m \u001b[0;36m1\u001b[0m\u001b[0;34m,\u001b[0m \u001b[0;34m'b'\u001b[0m\u001b[0;34m:\u001b[0m \u001b[0;36m2\u001b[0m\u001b[0;34m}\u001b[0m\u001b[0;34m\u001b[0m\u001b[0;34m\u001b[0m\u001b[0m\n\u001b[0;32m----> 3\u001b[0;31m \u001b[0mprint\u001b[0m\u001b[0;34m(\u001b[0m\u001b[0mmy_dict\u001b[0m\u001b[0;34m[\u001b[0m\u001b[0;34m'c'\u001b[0m\u001b[0;34m]\u001b[0m\u001b[0;34m)\u001b[0m\u001b[0;34m\u001b[0m\u001b[0;34m\u001b[0m\u001b[0m\n\u001b[0m",
            "\u001b[0;31mKeyError\u001b[0m: 'c'"
          ]
        }
      ]
    },
    {
      "cell_type": "code",
      "source": [
        "# Value Error\n",
        "int('a')"
      ],
      "metadata": {
        "colab": {
          "base_uri": "https://localhost:8080/",
          "height": 200
        },
        "id": "6X-i6nwHEElr",
        "outputId": "2bee7fef-6cd0-426f-9987-d1fae69cb39e"
      },
      "execution_count": null,
      "outputs": [
        {
          "output_type": "error",
          "ename": "ValueError",
          "evalue": "ignored",
          "traceback": [
            "\u001b[0;31m---------------------------------------------------------------------------\u001b[0m",
            "\u001b[0;31mValueError\u001b[0m                                Traceback (most recent call last)",
            "\u001b[0;32m<ipython-input-121-b8f9f0574b88>\u001b[0m in \u001b[0;36m<cell line: 2>\u001b[0;34m()\u001b[0m\n\u001b[1;32m      1\u001b[0m \u001b[0;31m# Value Error\u001b[0m\u001b[0;34m\u001b[0m\u001b[0;34m\u001b[0m\u001b[0m\n\u001b[0;32m----> 2\u001b[0;31m \u001b[0mint\u001b[0m\u001b[0;34m(\u001b[0m\u001b[0;34m'a'\u001b[0m\u001b[0;34m)\u001b[0m\u001b[0;34m\u001b[0m\u001b[0;34m\u001b[0m\u001b[0m\n\u001b[0m",
            "\u001b[0;31mValueError\u001b[0m: invalid literal for int() with base 10: 'a'"
          ]
        }
      ]
    },
    {
      "cell_type": "code",
      "source": [
        "# ZeroDivision Error\n",
        "x = 10\n",
        "y = 0\n",
        "print(x / y)"
      ],
      "metadata": {
        "colab": {
          "base_uri": "https://localhost:8080/",
          "height": 219
        },
        "id": "e7nfS4cTEKzW",
        "outputId": "3b1235cd-d44c-483d-b8c0-000a885f43a9"
      },
      "execution_count": null,
      "outputs": [
        {
          "output_type": "error",
          "ename": "ZeroDivisionError",
          "evalue": "ignored",
          "traceback": [
            "\u001b[0;31m---------------------------------------------------------------------------\u001b[0m",
            "\u001b[0;31mZeroDivisionError\u001b[0m                         Traceback (most recent call last)",
            "\u001b[0;32m<ipython-input-122-f17cbf29a9a4>\u001b[0m in \u001b[0;36m<cell line: 4>\u001b[0;34m()\u001b[0m\n\u001b[1;32m      2\u001b[0m \u001b[0mx\u001b[0m \u001b[0;34m=\u001b[0m \u001b[0;36m10\u001b[0m\u001b[0;34m\u001b[0m\u001b[0;34m\u001b[0m\u001b[0m\n\u001b[1;32m      3\u001b[0m \u001b[0my\u001b[0m \u001b[0;34m=\u001b[0m \u001b[0;36m0\u001b[0m\u001b[0;34m\u001b[0m\u001b[0;34m\u001b[0m\u001b[0m\n\u001b[0;32m----> 4\u001b[0;31m \u001b[0mprint\u001b[0m\u001b[0;34m(\u001b[0m\u001b[0mx\u001b[0m \u001b[0;34m/\u001b[0m \u001b[0my\u001b[0m\u001b[0;34m)\u001b[0m\u001b[0;34m\u001b[0m\u001b[0;34m\u001b[0m\u001b[0m\n\u001b[0m",
            "\u001b[0;31mZeroDivisionError\u001b[0m: division by zero"
          ]
        }
      ]
    },
    {
      "cell_type": "code",
      "source": [
        "def f():\n",
        "    return True\n",
        "\n",
        "def ff():\n",
        "    return 1/0\n",
        "\n",
        "f() or ff()"
      ],
      "metadata": {
        "colab": {
          "base_uri": "https://localhost:8080/",
          "height": 219
        },
        "id": "PRTuy4K9EYG8",
        "outputId": "68cdca67-ff70-4bfd-e75d-fe3d80357e39"
      },
      "execution_count": null,
      "outputs": [
        {
          "output_type": "error",
          "ename": "ZeroDivisionError",
          "evalue": "ignored",
          "traceback": [
            "\u001b[0;31m---------------------------------------------------------------------------\u001b[0m",
            "\u001b[0;31mZeroDivisionError\u001b[0m                         Traceback (most recent call last)",
            "\u001b[0;32m<ipython-input-123-7461701c69f4>\u001b[0m in \u001b[0;36m<cell line: 6>\u001b[0;34m()\u001b[0m\n\u001b[1;32m      4\u001b[0m \u001b[0;32mdef\u001b[0m \u001b[0mff\u001b[0m\u001b[0;34m(\u001b[0m\u001b[0;34m)\u001b[0m\u001b[0;34m:\u001b[0m\u001b[0;34m\u001b[0m\u001b[0;34m\u001b[0m\u001b[0m\n\u001b[1;32m      5\u001b[0m     \u001b[0;32mreturn\u001b[0m \u001b[0;32mFalse\u001b[0m\u001b[0;34m\u001b[0m\u001b[0;34m\u001b[0m\u001b[0m\n\u001b[0;32m----> 6\u001b[0;31m \u001b[0mf\u001b[0m\u001b[0;34m(\u001b[0m\u001b[0;34m)\u001b[0m \u001b[0;34m/\u001b[0m \u001b[0mff\u001b[0m\u001b[0;34m(\u001b[0m\u001b[0;34m)\u001b[0m\u001b[0;34m\u001b[0m\u001b[0;34m\u001b[0m\u001b[0m\n\u001b[0m",
            "\u001b[0;31mZeroDivisionError\u001b[0m: division by zero"
          ]
        }
      ]
    },
    {
      "cell_type": "code",
      "source": [
        "# Attribute Error\n",
        "my_list = [1, 2, 3]\n",
        "print(my_list.appeend(4))"
      ],
      "metadata": {
        "colab": {
          "base_uri": "https://localhost:8080/",
          "height": 219
        },
        "id": "FnWAg0L-EgPT",
        "outputId": "32a4f075-91fd-4278-c31f-5cf7dadfc8fd"
      },
      "execution_count": null,
      "outputs": [
        {
          "output_type": "error",
          "ename": "AttributeError",
          "evalue": "ignored",
          "traceback": [
            "\u001b[0;31m---------------------------------------------------------------------------\u001b[0m",
            "\u001b[0;31mAttributeError\u001b[0m                            Traceback (most recent call last)",
            "\u001b[0;32m<ipython-input-124-dceecff01ea8>\u001b[0m in \u001b[0;36m<cell line: 3>\u001b[0;34m()\u001b[0m\n\u001b[1;32m      1\u001b[0m \u001b[0;31m# Attribute Error\u001b[0m\u001b[0;34m\u001b[0m\u001b[0;34m\u001b[0m\u001b[0m\n\u001b[1;32m      2\u001b[0m \u001b[0mmy_list\u001b[0m \u001b[0;34m=\u001b[0m \u001b[0;34m[\u001b[0m\u001b[0;36m1\u001b[0m\u001b[0;34m,\u001b[0m \u001b[0;36m2\u001b[0m\u001b[0;34m,\u001b[0m \u001b[0;36m3\u001b[0m\u001b[0;34m]\u001b[0m\u001b[0;34m\u001b[0m\u001b[0;34m\u001b[0m\u001b[0m\n\u001b[0;32m----> 3\u001b[0;31m \u001b[0mprint\u001b[0m\u001b[0;34m(\u001b[0m\u001b[0mmy_list\u001b[0m\u001b[0;34m.\u001b[0m\u001b[0mappeend\u001b[0m\u001b[0;34m(\u001b[0m\u001b[0;36m4\u001b[0m\u001b[0;34m)\u001b[0m\u001b[0;34m)\u001b[0m\u001b[0;34m\u001b[0m\u001b[0;34m\u001b[0m\u001b[0m\n\u001b[0m",
            "\u001b[0;31mAttributeError\u001b[0m: 'list' object has no attribute 'appeend'"
          ]
        }
      ]
    },
    {
      "cell_type": "code",
      "source": [
        "# Type Error\n",
        "def add(x, y):\n",
        "    return x + y\n",
        "\n",
        "add(1, 2, 3) # *args, **kargs"
      ],
      "metadata": {
        "colab": {
          "base_uri": "https://localhost:8080/",
          "height": 219
        },
        "id": "QnaUmUi8EjaL",
        "outputId": "6630e781-6718-4bc6-ecb4-7500bf766c7a"
      },
      "execution_count": null,
      "outputs": [
        {
          "output_type": "error",
          "ename": "TypeError",
          "evalue": "ignored",
          "traceback": [
            "\u001b[0;31m---------------------------------------------------------------------------\u001b[0m",
            "\u001b[0;31mTypeError\u001b[0m                                 Traceback (most recent call last)",
            "\u001b[0;32m<ipython-input-125-cbb8c8b9d43a>\u001b[0m in \u001b[0;36m<cell line: 5>\u001b[0;34m()\u001b[0m\n\u001b[1;32m      3\u001b[0m     \u001b[0;32mreturn\u001b[0m \u001b[0mx\u001b[0m \u001b[0;34m+\u001b[0m \u001b[0my\u001b[0m\u001b[0;34m\u001b[0m\u001b[0;34m\u001b[0m\u001b[0m\n\u001b[1;32m      4\u001b[0m \u001b[0;34m\u001b[0m\u001b[0m\n\u001b[0;32m----> 5\u001b[0;31m \u001b[0madd\u001b[0m\u001b[0;34m(\u001b[0m\u001b[0;36m1\u001b[0m\u001b[0;34m,\u001b[0m \u001b[0;36m2\u001b[0m\u001b[0;34m,\u001b[0m \u001b[0;36m3\u001b[0m\u001b[0;34m)\u001b[0m\u001b[0;34m\u001b[0m\u001b[0;34m\u001b[0m\u001b[0m\n\u001b[0m",
            "\u001b[0;31mTypeError\u001b[0m: add() takes 2 positional arguments but 3 were given"
          ]
        }
      ]
    },
    {
      "cell_type": "code",
      "source": [
        "def add(x, y, *args):\n",
        "    print(x, y, args)\n",
        "    return x + y\n",
        "\n",
        "add(1, 2, 3, 4, 5, 6, 7, 8, 9, 10)"
      ],
      "metadata": {
        "colab": {
          "base_uri": "https://localhost:8080/"
        },
        "id": "SrXz9D0FEtxv",
        "outputId": "e6c34130-ab42-45d0-cdcf-df6e706f4e90"
      },
      "execution_count": null,
      "outputs": [
        {
          "output_type": "stream",
          "name": "stdout",
          "text": [
            "1 2 (3, 4, 5, 6, 7, 8, 9, 10)\n"
          ]
        },
        {
          "output_type": "execute_result",
          "data": {
            "text/plain": [
              "3"
            ]
          },
          "metadata": {},
          "execution_count": 127
        }
      ]
    },
    {
      "cell_type": "code",
      "source": [
        "# File I/O Error\n",
        "f = open('non-existent.txt', 'r')\n",
        "f.read()"
      ],
      "metadata": {
        "colab": {
          "base_uri": "https://localhost:8080/",
          "height": 219
        },
        "id": "3r2mR3XEEmit",
        "outputId": "5c0d81c3-49b9-4e9b-931a-e207f5bdfcae"
      },
      "execution_count": null,
      "outputs": [
        {
          "output_type": "error",
          "ename": "FileNotFoundError",
          "evalue": "ignored",
          "traceback": [
            "\u001b[0;31m---------------------------------------------------------------------------\u001b[0m",
            "\u001b[0;31mFileNotFoundError\u001b[0m                         Traceback (most recent call last)",
            "\u001b[0;32m<ipython-input-126-398bb0f309eb>\u001b[0m in \u001b[0;36m<cell line: 2>\u001b[0;34m()\u001b[0m\n\u001b[1;32m      1\u001b[0m \u001b[0;31m# File I/O Error\u001b[0m\u001b[0;34m\u001b[0m\u001b[0;34m\u001b[0m\u001b[0m\n\u001b[0;32m----> 2\u001b[0;31m \u001b[0mf\u001b[0m \u001b[0;34m=\u001b[0m \u001b[0mopen\u001b[0m\u001b[0;34m(\u001b[0m\u001b[0;34m'non-existent.txt'\u001b[0m\u001b[0;34m,\u001b[0m \u001b[0;34m'r'\u001b[0m\u001b[0;34m)\u001b[0m\u001b[0;34m\u001b[0m\u001b[0;34m\u001b[0m\u001b[0m\n\u001b[0m\u001b[1;32m      3\u001b[0m \u001b[0mf\u001b[0m\u001b[0;34m.\u001b[0m\u001b[0mread\u001b[0m\u001b[0;34m(\u001b[0m\u001b[0;34m)\u001b[0m\u001b[0;34m\u001b[0m\u001b[0;34m\u001b[0m\u001b[0m\n",
            "\u001b[0;31mFileNotFoundError\u001b[0m: [Errno 2] No such file or directory: 'non-existent.txt'"
          ]
        }
      ]
    },
    {
      "cell_type": "code",
      "source": [
        "# 오류가 난 곳을 찾아 유지보수하기가 쉽지 않습니다\n",
        "try:\n",
        "    # 예외가 발생할 가능성이 있는 코드\n",
        "except:\n",
        "    # 예외 처리 코드"
      ],
      "metadata": {
        "id": "sv-N7s8cEoFK"
      },
      "execution_count": null,
      "outputs": []
    },
    {
      "cell_type": "code",
      "source": [
        "try:\n",
        "    할인율 = 0\n",
        "    치킨값 = 30000 / 할인율\n",
        "    print('치킨주문 되었습니다!')\n",
        "except:\n",
        "    print('결제가 안되었습니다!')"
      ],
      "metadata": {
        "colab": {
          "base_uri": "https://localhost:8080/"
        },
        "id": "wRzds2klGR7r",
        "outputId": "1d647089-e860-4eb3-e6f9-f7840122206d"
      },
      "execution_count": null,
      "outputs": [
        {
          "output_type": "stream",
          "name": "stdout",
          "text": [
            "결제가 안되었습니다!\n"
          ]
        }
      ]
    },
    {
      "cell_type": "code",
      "source": [
        "try:\n",
        "    할인율 = 0\n",
        "    치킨값 = 30000 / 할인율\n",
        "    print('치킨주문 되었습니다!')\n",
        "print('hello')"
      ],
      "metadata": {
        "colab": {
          "base_uri": "https://localhost:8080/",
          "height": 146
        },
        "id": "x6_12wLLGZKS",
        "outputId": "afaaf183-f826-454e-c6e9-f930858e6436"
      },
      "execution_count": null,
      "outputs": [
        {
          "output_type": "error",
          "ename": "SyntaxError",
          "evalue": "ignored",
          "traceback": [
            "\u001b[0;36m  File \u001b[0;32m\"<ipython-input-132-597d13708401>\"\u001b[0;36m, line \u001b[0;32m5\u001b[0m\n\u001b[0;31m    print('hello')\u001b[0m\n\u001b[0m    ^\u001b[0m\n\u001b[0;31mSyntaxError\u001b[0m\u001b[0;31m:\u001b[0m expected 'except' or 'finally' block\n"
          ]
        }
      ]
    },
    {
      "cell_type": "code",
      "source": [
        "try:\n",
        "    할인율 = 0\n",
        "    # 치킨값 = 30000 / 할인율\n",
        "    print('치킨주문 되었습니다!')\n",
        "except:\n",
        "    print('결제가 안되었습니다!')\n",
        "else: # error 없이 실행되면 else를 실행합니다. while, for + else 조합과 비슷합니다.\n",
        "    print('else')"
      ],
      "metadata": {
        "colab": {
          "base_uri": "https://localhost:8080/"
        },
        "id": "ux3whFEdG6zx",
        "outputId": "d71560e2-cdf0-47b4-ef85-b5fb630980b4"
      },
      "execution_count": null,
      "outputs": [
        {
          "output_type": "stream",
          "name": "stdout",
          "text": [
            "치킨주문 되었습니다!\n",
            "else\n"
          ]
        }
      ]
    },
    {
      "cell_type": "code",
      "source": [
        "try:\n",
        "    할인율 = 0\n",
        "    # 치킨값 = 30000 / 할인율\n",
        "    print('치킨주문 되었습니다!')\n",
        "except:\n",
        "    print('결제가 안되었습니다!')\n",
        "else: # error 없이 실행되면 else를 실행합니다. while, for + else 조합과 비슷합니다.\n",
        "    print('else')"
      ],
      "metadata": {
        "id": "23MR4EcAHI8F"
      },
      "execution_count": null,
      "outputs": []
    },
    {
      "cell_type": "code",
      "source": [
        "try:\n",
        "    할인율 = 0\n",
        "    # 치킨값 = 30000 / 할인율\n",
        "    print('치킨주문 되었습니다!')\n",
        "except:\n",
        "    print('결제가 안되었습니다!')\n",
        "finally:\n",
        "    print('무조건 실행!')"
      ],
      "metadata": {
        "colab": {
          "base_uri": "https://localhost:8080/"
        },
        "id": "xsUraBUwIApi",
        "outputId": "6856594e-65f2-47d1-9893-73a5f8eba48b"
      },
      "execution_count": null,
      "outputs": [
        {
          "output_type": "stream",
          "name": "stdout",
          "text": [
            "치킨주문 되었습니다!\n",
            "무조건 실행!\n"
          ]
        }
      ]
    },
    {
      "cell_type": "code",
      "source": [
        "test = 'hello'\n",
        "\n",
        "assert test == 'hello', '애러 메시지 1' #1\n",
        "assert test == 'world', '애러 메시지 2' #2\n",
        "assert test + 3 == 5, '애러 메시지 3' #3"
      ],
      "metadata": {
        "colab": {
          "base_uri": "https://localhost:8080/",
          "height": 237
        },
        "id": "hkkSvNf1IDzW",
        "outputId": "4b5437e4-30ad-422e-f718-2aef94d88415"
      },
      "execution_count": null,
      "outputs": [
        {
          "output_type": "error",
          "ename": "AssertionError",
          "evalue": "ignored",
          "traceback": [
            "\u001b[0;31m---------------------------------------------------------------------------\u001b[0m",
            "\u001b[0;31mAssertionError\u001b[0m                            Traceback (most recent call last)",
            "\u001b[0;32m<ipython-input-136-71f97c55260d>\u001b[0m in \u001b[0;36m<cell line: 4>\u001b[0;34m()\u001b[0m\n\u001b[1;32m      2\u001b[0m \u001b[0;34m\u001b[0m\u001b[0m\n\u001b[1;32m      3\u001b[0m \u001b[0;32massert\u001b[0m \u001b[0mtest\u001b[0m \u001b[0;34m==\u001b[0m \u001b[0;34m'hello'\u001b[0m\u001b[0;34m,\u001b[0m \u001b[0;34m'애러 메시지 1'\u001b[0m \u001b[0;31m#1\u001b[0m\u001b[0;34m\u001b[0m\u001b[0;34m\u001b[0m\u001b[0m\n\u001b[0;32m----> 4\u001b[0;31m \u001b[0;32massert\u001b[0m \u001b[0mtest\u001b[0m \u001b[0;34m==\u001b[0m \u001b[0;34m'world'\u001b[0m\u001b[0;34m,\u001b[0m \u001b[0;34m'애러 메시지 2'\u001b[0m \u001b[0;31m#2\u001b[0m\u001b[0;34m\u001b[0m\u001b[0;34m\u001b[0m\u001b[0m\n\u001b[0m\u001b[1;32m      5\u001b[0m \u001b[0;32massert\u001b[0m \u001b[0mtest\u001b[0m \u001b[0;34m+\u001b[0m \u001b[0;36m3\u001b[0m \u001b[0;34m==\u001b[0m \u001b[0;36m5\u001b[0m\u001b[0;34m,\u001b[0m \u001b[0;34m'애러 메시지 3'\u001b[0m \u001b[0;31m#3\u001b[0m\u001b[0;34m\u001b[0m\u001b[0;34m\u001b[0m\u001b[0m\n",
            "\u001b[0;31mAssertionError\u001b[0m: 애러 메시지 2"
          ]
        }
      ]
    },
    {
      "cell_type": "code",
      "source": [
        "x = 10\n",
        "# raise\n",
        "# raise ValueError\n",
        "# raise ValueError('코드를 잘~~ 만들어주세요.')\n",
        "y = 20"
      ],
      "metadata": {
        "id": "8qXSTuGIIvtu"
      },
      "execution_count": null,
      "outputs": []
    },
    {
      "cell_type": "code",
      "source": [
        "class Leehojun(Exception): #Exception을 상속받으면 됩니다.\n",
        "    def __init__(self):\n",
        "        super().__init__('입력된 값이 leehojun이 아닙니다.')\n",
        "\n",
        "raise Leehojun"
      ],
      "metadata": {
        "colab": {
          "base_uri": "https://localhost:8080/",
          "height": 219
        },
        "id": "o7RyoEp6I7Qq",
        "outputId": "760758f2-f91a-48e4-cc5f-aa740e1887bc"
      },
      "execution_count": null,
      "outputs": [
        {
          "output_type": "error",
          "ename": "Leehojun",
          "evalue": "ignored",
          "traceback": [
            "\u001b[0;31m---------------------------------------------------------------------------\u001b[0m",
            "\u001b[0;31mLeehojun\u001b[0m                                  Traceback (most recent call last)",
            "\u001b[0;32m<ipython-input-140-b11d5076ad8d>\u001b[0m in \u001b[0;36m<cell line: 5>\u001b[0;34m()\u001b[0m\n\u001b[1;32m      3\u001b[0m         \u001b[0msuper\u001b[0m\u001b[0;34m(\u001b[0m\u001b[0;34m)\u001b[0m\u001b[0;34m.\u001b[0m\u001b[0m__init__\u001b[0m\u001b[0;34m(\u001b[0m\u001b[0;34m'입력된 값이 leehojun이 아닙니다.'\u001b[0m\u001b[0;34m)\u001b[0m\u001b[0;34m\u001b[0m\u001b[0;34m\u001b[0m\u001b[0m\n\u001b[1;32m      4\u001b[0m \u001b[0;34m\u001b[0m\u001b[0m\n\u001b[0;32m----> 5\u001b[0;31m \u001b[0;32mraise\u001b[0m \u001b[0mLeehojun\u001b[0m\u001b[0;34m\u001b[0m\u001b[0;34m\u001b[0m\u001b[0m\n\u001b[0m",
            "\u001b[0;31mLeehojun\u001b[0m: 입력된 값이 leehojun이 아닙니다."
          ]
        }
      ]
    },
    {
      "cell_type": "code",
      "source": [
        "import logging\n",
        "\n",
        "logging.basicConfig(level=logging.INFO) # 어느 레벨부터 로깅할지, 기본으로 warning 부터 합니다.\n",
        "\n",
        "logging.debug(\"This is a debug message\") # 고쳐야 할 코드, 기록 필요\n",
        "logging.info(\"This is an info message\") # 정보성 메시지\n",
        "logging.warning(\"This is a warning message\") # 경고 메시지\n",
        "logging.error(\"This is an error message\") # 애러 메시지(프로그램은 동작)\n",
        "logging.critical(\"This is a critical message\") # 프로그램 중지(애러처리 안된경우)"
      ],
      "metadata": {
        "colab": {
          "base_uri": "https://localhost:8080/"
        },
        "id": "liKI0AdrIwNG",
        "outputId": "43beba09-39ff-4d34-99ee-7a0bec3ad94f"
      },
      "execution_count": null,
      "outputs": [
        {
          "output_type": "stream",
          "name": "stderr",
          "text": [
            "WARNING:root:This is a warning message\n",
            "ERROR:root:This is an error message\n",
            "CRITICAL:root:This is a critical message\n"
          ]
        }
      ]
    },
    {
      "cell_type": "code",
      "source": [
        "import logging.handlers\n",
        "\n",
        "def logger():\n",
        "    log_obj = logging.getLogger(\"log_name\") # log name으로 log 객체 생성\n",
        "    log_obj.setLevel(logging.ERROR) # 어디부터 기록할지 설정\n",
        "\n",
        "    fileHandeler = logging.FileHandler(filename=\"./test.txt\") # 파일로 기록\n",
        "    # streamHandler = logging.StreamHandler() # 콘솔에 출력\n",
        "\n",
        "    fileHandeler.setLevel(logging.ERROR) # 파일 기록 레벨 설정\n",
        "    # streamHandler.setLevel(logging.DEBUG) # 콘솔 기록 레벨 설정\n",
        "\n",
        "    formatter = logging.Formatter(\"%(name)s, %(asctime)s, %(levelname)s, %(message)s\") #포멧 생성\n",
        "\n",
        "    fileHandeler.setFormatter(formatter) # 파일 메시지 포멧 설정\n",
        "    # streamHandler.setFormatter(formatter) # 콘솔 메시지 포멧 설정\n",
        "\n",
        "    log_obj.addHandler(fileHandeler) # log_obj handler에 파일 출력 방식 추가\n",
        "    # log_obj.addHandler(streamHandler) # log_obj handler에 파일 콘솔 방식 추가\n",
        "\n",
        "    return log_obj\n",
        "\n",
        "log = logger()\n",
        "\n",
        "# 아래 코드를 기록하고 싶은 곳에 함께 설정\n",
        "log.debug('debug')\n",
        "log.info('info')\n",
        "log.warning('warning')\n",
        "log.error('error')\n",
        "log.critical('critical')\n",
        "\n",
        "print('---')\n",
        "\n",
        "# 아래와 같이 사용합니다.\n",
        "def f():\n",
        "    try:\n",
        "        x = 1 / 0\n",
        "    except Exception as e:\n",
        "        print(e)\n",
        "        log.error(f'{e} error')\n",
        "\n",
        "f()"
      ],
      "metadata": {
        "colab": {
          "base_uri": "https://localhost:8080/"
        },
        "id": "v1AottdVKmFz",
        "outputId": "20462241-fe54-440c-825f-124b20686481"
      },
      "execution_count": null,
      "outputs": [
        {
          "output_type": "stream",
          "name": "stderr",
          "text": [
            "ERROR:log_name:error\n",
            "CRITICAL:log_name:critical\n",
            "ERROR:log_name:division by zero error\n"
          ]
        },
        {
          "output_type": "stream",
          "name": "stdout",
          "text": [
            "---\n",
            "division by zero\n"
          ]
        }
      ]
    },
    {
      "cell_type": "markdown",
      "source": [
        "# 연습문제"
      ],
      "metadata": {
        "id": "56uAHkGUMStp"
      }
    },
    {
      "cell_type": "code",
      "source": [
        "# div(a, b)라고 입력했을 때 b에 0이 입력되면 예외 처리를 하여 정상작동이 되게 만들어주세요.\n",
        "def div(a, b):\n",
        "    try:\n",
        "        return a / b\n",
        "    except:\n",
        "        print('b는 0이 될 수 없습니다!')\n",
        "\n",
        "div(3, 0)"
      ],
      "metadata": {
        "colab": {
          "base_uri": "https://localhost:8080/"
        },
        "id": "16e1Z75ILQz7",
        "outputId": "86103ed7-ddfd-4a17-a06f-7d1afeeaf2ae"
      },
      "execution_count": null,
      "outputs": [
        {
          "output_type": "stream",
          "name": "stdout",
          "text": [
            "b는 0이 될 수 없습니다!\n"
          ]
        }
      ]
    }
  ]
}